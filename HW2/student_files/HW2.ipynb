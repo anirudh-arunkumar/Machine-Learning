{
 "cells": [
  {
   "cell_type": "markdown",
   "metadata": {
    "id": "xs9yYSRW_Mvs"
   },
   "source": [
    "## Fall 2024 CS4641/CS7641 Homework 2\n",
    "\n",
    "## Instructor: Dr. Mahdi Roozbahani\n",
    "\n",
    "## Deadline: Friday, October 18th, 11:59 pm EST\n",
    "\n",
    "<!-- No changes needed on the below section -->\n",
    "\n",
    "- No unapproved extension of the deadline is allowed. Late submission will lead to 0 credit.\n",
    "\n",
    "- Discussion is encouraged on Ed as part of the Q/A. However, all assignments should be done individually.\n",
    "\n",
    "- <font color='darkred'>Plagiarism is a **serious offense**. You are responsible for completing your own work. You are not allowed to copy and paste, or paraphrase, or submit materials created or published by others, as if you created the materials. All materials submitted must be your own.</font>\n",
    "\n",
    "- <font color='darkred'>All incidents of suspected dishonesty, plagiarism, or violations of the Georgia Tech Honor Code will be subject to the institute’s Academic Integrity procedures. If we observe any (even small) similarities/plagiarisms detected by Gradescope or our TAs, **WE WILL DIRECTLY REPORT ALL CASES TO OSI**, which may, unfortunately, lead to a very harsh outcome. **Consequences can be severe, e.g., academic probation or dismissal, grade penalties, a 0 grade for assignments concerned, and prohibition from withdrawing from the class.**\n",
    "  </font>\n"
   ]
  },
  {
   "cell_type": "markdown",
   "metadata": {
    "id": "uI6nZBMF_Mvw"
   },
   "source": [
    "## Instructions for the assignment\n",
    "\n",
    "<!-- No changes needed on the below section -->\n",
    "\n",
    "- This assignment consists of both programming and theory questions.\n",
    "\n",
    "- Unless a theory question explicitly states that no work is required to be shown, you must provide an explanation, justification, or calculation for your answer.\n",
    "\n",
    "- To switch between cell for code and for markdown, see the menu -> Cell -> Cell Type\n",
    "- You can directly type Latex equations into markdown cells.\n",
    "- If a question requires a picture, you could use this syntax `<img src=\"\" style=\"width: 300px;\"/>` to include them within your ipython notebook.\n",
    "\n",
    "- Your write up must be submitted in PDF form. You may use either Latex, markdown, or any word processing software. <font color = 'darkred'>We will **NOT** accept handwritten work. </font> Make sure that your work is formatted correctly, for example submit $\\sum_{i=0} x_i$ instead of \\text{sum\\_\\{i=0\\} x_i}\n",
    "- When submitting the non-programming part of your assignment, you must correctly map pages of your PDF to each question/subquestion to reflect where they appear. <font color='darkred'>**Improperly mapped questions may not be graded correctly and/or will result in point deductions for the error.**</font>\n",
    "- All assignments should be done individually, and each student must write up and submit their own answers.\n",
    "- **Graduate Students**: You are required to complete any sections marked as Bonus for Undergrads\n"
   ]
  },
  {
   "cell_type": "markdown",
   "metadata": {
    "id": "g7stIuyo_Mvx"
   },
   "source": [
    "## Using the autograder\n",
    "\n",
    "- Grads will find three assignments and Undergrads will find four assignments on Gradescope that correspond to HW2: \"Assignment 2 Programming\", \"Assignment 2 - Non-programming\", \"Assignment 2 Programming - Bonus for all\", and \"Assignment 2 Programming - Bonus for Undergrad\" (Undergrad Only).\n",
    "\n",
    "<!-- No changes needed on the below section -->\n",
    "\n",
    "- You will submit your code for the autograder in the Assignment 2 Programming sections. Please refer to the Deliverables and Point Distribution section for what parts are considered required, bonus for undergrads, and bonus for all.\n",
    "\n",
    "- We provided you different .py files and we added libraries in those files please DO NOT remove those lines and add your code after those lines. Note that these are the only allowed libraries that you can use for the homework.\n",
    "\n",
    "- You are allowed to make as many submissions until the deadline as you like. Additionally, note that the autograder tests each function separately, therefore it can serve as a useful tool to help you debug your code if you are not sure of what part of your implementation might have an issue.\n",
    "<!-- No changes needed on the above section -->\n",
    "\n",
    "- **For the \"Assignment 2 - Non-programming\" part, you will need to submit to Gradescope a PDF copy of your Jupyter Notebook with the cells ran.** Please refer to the Deliverables and Point Distribution section for an outline of the non-programming questions.\n",
    "\n",
    "- **When submitting to Gradescope, please make sure to mark the page(s) corresponding to each problem/sub-problem. The pages in the PDF should be of size 8.5\" x 11\", otherwise there may be a deduction in points for extra long sheets.**\n"
   ]
  },
  {
   "cell_type": "markdown",
   "metadata": {},
   "source": [
    "## Using the local tests <a id='using_local_tests'></a>\n",
    "\n",
    "- For some of the programming questions we have included a local test using a small toy dataset to aid in debugging. The local tests are all stored in localtests.py\n",
    "- There are no points associated with passing or failing the local tests, you must still pass the autograder to get points.\n",
    "- **It is possible to fail the local test and pass the autograder** since the autograder has a certain allowed error tolerance while the local test allowed error may be smaller. Likewise, passing the local tests does not guarantee passing the autograder.\n",
    "- **You do not need to pass both local and autograder tests to get points, passing the Gradescope autograder is sufficient for credit.**\n",
    "- It might be helpful to comment out the tests for functions that have not been completed yet.\n",
    "- It is recommended to test the functions as it gets completed instead of completing the whole class and then testing. This may help in isolating errors. Do not solely rely on the local tests, continue to test on the autograder regularly as well.\n"
   ]
  },
  {
   "cell_type": "markdown",
   "metadata": {
    "id": "_Nz2030u_Mvy",
    "tags": []
   },
   "source": [
    "## Deliverables and Points Distribution\n",
    "\n",
    "### Q1: KMeans Clustering & DBScan [50pts total: 37pts + 6% Bonus for Undergrad]\n",
    "\n",
    "#### Deliverables: <font color = 'green'>kmeans.py and dbscan.py</font>\n",
    "\n",
    "- **pairwise_dist** [5 pts] - _programming_\n",
    "\n",
    "- **KMeans Implementation** [30pts] - _programming_\n",
    "\n",
    "  - init_centers [2pts]\n",
    "  - kmpp_init [3pts G / 1.5% UG] **BONUS FOR UNDERGRAD**\n",
    "  - update_assignment [5pts]\n",
    "  - update_centers [5pts]\n",
    "  - get_loss function [5pts]\n",
    "  - train [10pts]\n",
    "\n",
    "- **Fowlkes-Mallow Measure** [5 pts] - _programming_\n",
    "\n",
    "- **DBScan** [10 pts G / 4.5% UG] - _programming_ **BONUS FOR UNDERGRAD**\n",
    "  - regionQuery [2pts G / 0.9% UG]\n",
    "  - expandClusters [4pts G / 1.8% UG]\n",
    "  - fit [4pts G / 1.8% UG]\n",
    "\n",
    "### Q2: EM Algorithm [15pts total + 1% Bonus for All]\n",
    "\n",
    "#### Deliverables: <font color = 'green'>Markdown Cell Text</font>\n",
    "\n",
    "- **2.1 Performing EM Update** [15 pts] - _non-programming_\n",
    "\n",
    "  - 2.1.1 [3pts] - _non-programming_\n",
    "\n",
    "  - 2.1.2 [3pts] - _non-programming_\n",
    "\n",
    "  - 2.1.3 [9pts] - _non-programming_\n",
    "\n",
    "- **2.2 Gradient Descent and EM algorithm** [1%] - _non-programming_ **BONUS FOR ALL**\n",
    "\n",
    "### Q3: GMM implementation [60pts total + 1% Bonus for All]\n",
    "\n",
    "#### Deliverables: <font color = 'green'>gmm.py and Markdown Cell Text</font>\n",
    "\n",
    "- 3.1 Helper Functions [15pts] - _programming & non-programming_\n",
    "\n",
    "  - 3.1.1. softmax [5pts]\n",
    "\n",
    "  - 3.1.2. logsumexp [3pts + 2pts] - _programming & non-programming_\n",
    "\n",
    "  - 3.1.3. normalPDF [5pts] - _for CS4641 students only_\n",
    "\n",
    "  - 3.1.3. multinormalPDF [5pts] - _for CS7641 students only_\n",
    "\n",
    "- 3.2 GMM Implementation [30pts] - _programming_\n",
    "\n",
    "  - 3.2.1. init_components [5pts]\n",
    "\n",
    "  - 3.2.2.\\_ll_joint [10pts]\n",
    "\n",
    "  - 3.2.3. Setup iterative steps for EM algorithm [15pts]\n",
    "\n",
    "- 3.3 Image Compression and Pixel clustering [10pts] - _programming_\n",
    "- 3.4 Compare Full Convariance Matrix with Diagonal Covariance Matrix [1%] _non-programming_ **BONUS FOR ALL**\n",
    "- 3.5 Generate samples from a Gaussian Mixture [5pts] _non-programming_\n",
    "\n",
    "### Q4: Cleaning Super Duper Messy data with semi-supervised learning [8% Bonus for All]\n",
    "\n",
    "#### Deliverables: <font color = 'green'>semisupervised.py and Markdown Cell Text</font>\n",
    "\n",
    "- 4.1: KNN [2.8%] - _programming_\n",
    "\n",
    "  - 4.1.a. complete*, incomplete*, unlabeled\\_ [0.7%]\n",
    "\n",
    "  - 4.1.b. CleanData \\_\\_call\\_\\_ [1.4%]\n",
    "\n",
    "  - 4.1.c. MedianCleanData [0.7%]\n",
    "\n",
    "- 4.2: Getting acquainted with semi-supervised learning approaches [3.5%] - _programming & non-programming_\n",
    "\n",
    "  - 4.2.a. Write highlight summary [1.2%] - _non-programming_\n",
    "\n",
    "  - 4.2.b. Implement EM algorithm [2.3%] - _programming_\n",
    "\n",
    "- 4.3: Demonstrating the performance of the algorithm [1.1%] - _programming_\n",
    "\n",
    "  - accuracy_semi_supervised [0.55%]\n",
    "\n",
    "  - accuracy_GNB [0.55%]\n",
    "\n",
    "- 4.4: Interpretation of Results [0.6%] - _non-programming_\n",
    "\n",
    "Note: It is highly recommended that you do Q4 (if not for the HW then before the project) as it teaches you imperfect data handling and a good understanding of how the models you have learnt can be used together for better results.\n",
    "\n",
    "### Q5: Evaluating Data Representation in K-Means Clustering [4pts]\n",
    "#### Deliverables: <font color = 'green'>Markdown Cell Text</font>\n",
    "\n",
    "### Points Totals: ###\n",
    "- Total Base: 125 pts for grads / 112 pts for undergrads\n",
    "- Total Undergrad Bonus: 6%\n",
    "- Total Bonus for All: 10%\n",
    "\n",
    "### Gradescope Submission Deliverables: ###\n",
    "- For any Non-Programming portion: HW2.pdf (Jupyter notebook converted to pdf)\n",
    "- For 4641/7641 Programming Bonus for All: semisupervised.py\n",
    "- For 7641 Programming: kmeans.py, dbscan.py, gmm.py\n",
    "- For 4641 Programming: kmeans.py, gmm.py\n",
    "- For 4641 Programming Bonus For Undergrad: kmeans.py, dbscan.py"
   ]
  },
  {
   "cell_type": "markdown",
   "metadata": {
    "id": "cKKsCsvo_Mvz"
   },
   "source": [
    "## 0 Set up\n",
    "\n",
    "This notebook is tested under [python 3.11.\\*\\*](https://www.python.org/downloads/release/python-368/), and the corresponding packages can be downloaded from [miniconda](https://docs.conda.io/en/latest/miniconda.html). You may also want to get yourself familiar with several packages:\n",
    "\n",
    "- [jupyter notebook](https://jupyter-notebook.readthedocs.io/en/stable/)\n",
    "- [numpy](https://docs.scipy.org/doc/numpy-1.15.1/user/quickstart.html)\n",
    "- [matplotlib](https://matplotlib.org/users/pyplot_tutorial.html)\n",
    "\n",
    "You can create a python conda environment with the necessary packages using the instructions in the `environment/environment_setup.md` file.\n",
    "\n",
    "Please implement the functions that have \"raise NotImplementedError\", and after you finish the coding, please delete or comment \"raise NotImplementedError\".\n"
   ]
  },
  {
   "cell_type": "code",
   "execution_count": 1,
   "metadata": {
    "colab": {
     "base_uri": "https://localhost:8080/"
    },
    "id": "HhlrgV1__Mvz",
    "outputId": "1b21a9dc-5a27-4da2-c54c-400962b79bef"
   },
   "outputs": [
    {
     "name": "stdout",
     "output_type": "stream",
     "text": [
      "Version information\n",
      "python: 3.11.10 (main, Oct  3 2024, 02:26:51) [Clang 14.0.6 ]\n",
      "matplotlib: 3.9.2\n",
      "numpy: 1.26.4\n"
     ]
    }
   ],
   "source": [
    "###############################\n",
    "### DO NOT CHANGE THIS CELL ###\n",
    "###############################\n",
    "\n",
    "from __future__ import absolute_import, division, print_function\n",
    "\n",
    "%matplotlib inline\n",
    "\n",
    "import sys\n",
    "\n",
    "import localtests as localtests\n",
    "import matplotlib\n",
    "import matplotlib.pyplot as plt\n",
    "import numpy as np\n",
    "from mpl_toolkits.mplot3d import axes3d\n",
    "from tqdm import tqdm\n",
    "\n",
    "print(\"Version information\")\n",
    "\n",
    "print(\"python: {}\".format(sys.version))\n",
    "print(\"matplotlib: {}\".format(matplotlib.__version__))\n",
    "print(\"numpy: {}\".format(np.__version__))\n",
    "\n",
    "# Load image\n",
    "import imageio\n",
    "\n",
    "%load_ext autoreload\n",
    "%autoreload 2"
   ]
  },
  {
   "cell_type": "markdown",
   "metadata": {
    "id": "Ysr89SO3_Mv0"
   },
   "source": [
    "## 1. KMeans Clustering & DBScan [50pts total: 37pts + 6% Bonus for Undergrad]"
   ]
  },
  {
   "cell_type": "markdown",
   "metadata": {
    "id": "1B5DYD13_Mv2"
   },
   "source": [
    "KMeans is trying to solve the following optimization problem:\n",
    "\n",
    "\\begin{align}\n",
    "\\arg \\min_S \\sum_{i=1}^K \\sum_{x_j \\in S_i} ||x_j - \\mu_i||^2\n",
    "\\end{align}\n",
    "where one needs to partition the N observations into K clusters: $S = \\{S_1, S_2, \\ldots, S_K\\}$ and each cluster has $\\mu_i$ as its center.\n"
   ]
  },
  {
   "cell_type": "markdown",
   "metadata": {
    "id": "NtdX4lTz_Mv2"
   },
   "source": [
    "### 1.1 pairwise distance [5pts]\n",
    "\n",
    "In this section, you are asked to implement pairwise_dist function.\n",
    "\n",
    "Given $X \\in \\mathbb{R}^{N \\times D}$ and $Y \\in \\mathbb{R}^{M \\times D}$, obtain the pairwise distance matrix $dist \\in \\mathbb{R}^{N \\times M}$ using the euclidean distance metric, where $dist_{i, j} = ||X_i - Y_j||_2$.\n",
    "\n",
    "DO NOT USE LOOPS in your implementation, **using for-loops or while-loops will result in 0 credit for this portion.**\n",
    "\n",
    "**Hint**: Use [array broadcasting](https://numpy.org/doc/stable/user/basics.broadcasting.html), but your implementation shouldn't create a third dimension (which would timeout). This can be achieved by using the $X^2 + Y^2 – 2XY$ shortcut calculation. Also notice that **a numpy array in shape $(N,1)$ is NOT the same as that in shape $(N,)$** so be careful and consistent on what you are using. You can see the detailed explanation here. [Difference between numpy.array shape (R, 1) and (R,)](https://stackoverflow.com/questions/22053050/difference-between-numpy-array-shape-r-1-and-r)\n",
    "\n",
    "**Hint**: To calculate $X^2$ and $Y^2$ you can refer to the sum of squares function from assignment 1. For detailed explanation of pairwise distance function check this document - https://static.us.edusercontent.com/files/WLtSuk4PzW8e8M6VTsDq0BdJ\n",
    "\n",
    "We have provided some unit tests in localtests.py for you to check your implementation. See [Using the Local Tests](#using_local_tests) for more details.\n"
   ]
  },
  {
   "cell_type": "code",
   "execution_count": null,
   "metadata": {
    "execution": {
     "iopub.execute_input": "2024-02-05T05:26:18.973751Z",
     "iopub.status.busy": "2024-02-05T05:26:18.973384Z",
     "iopub.status.idle": "2024-02-05T05:26:46.002548Z",
     "shell.execute_reply": "2024-02-05T05:26:46.001502Z"
    }
   },
   "outputs": [],
   "source": [
    "localtests.KMeansTests().test_pairwise_dist()\n",
    "localtests.KMeansTests().test_pairwise_speed()"
   ]
  },
  {
   "cell_type": "markdown",
   "metadata": {
    "id": "isP9lpcG_Mv4"
   },
   "source": [
    "### 1.2 KMeans Implementation [30pts: 27pts + 1.5% Bonus for Undergrad]\n",
    "\n",
    "In this section, you are asked to implement several methods in **kmeans.py**\n",
    "\n",
    "You may use [his visualization tool](http://tech.nitoyon.com/en/blog/2013/11/07/k-means/) to refine your understanding of KMeans.\n",
    "\n",
    "#### Initialization: [5pts: 2pts + 3pts Bonus for Undergrad]\n",
    "\n",
    "The Kmeans algorithm is sensitive to how the centers are initialized. The naive approach is to randomly initialize the centers. However, a bad initialization can increase the time required for convergence or may even converge to a non-optimal solution.\n",
    "\n",
    "- **init_centers** [2pts]: Here you will initialize the centers randomly **(Required for all)**\n",
    "\n",
    "**Hint**: Please initialize centers by randomly sampling points (without repetition) from the data passed to the KMeans() object upon instantiation in case the autograder fails.\n",
    "\n",
    "- **kmpp_init** [3pts Bonus for Undergrad]: Here you will use the intuition that points further away from each other will probably be better initial centers by implementing a version of KMeans++ **(Bonus for Undergrad, required for Grads)**\n",
    "\n",
    "**Hint**: We need to initialize the centers without repetition.\n",
    "\n",
    "##### KMeans++\n",
    "\n",
    "The algorithm for KMPP that you will implement can be described as follows:\n",
    "\n",
    "1. Sample 1% of the points from the dataset, uniformly at random (UAR) and without replacement. This sample will be the dataset the remainder of the algorithm uses to minimize initialization overhead.\n",
    "2. From the above sample, select only one random point to be the first cluster center.\n",
    "3. For each point in the sampled dataset, find the nearest cluster center and record the squared distance to get there.\n",
    "4. Examine all the squared distances and take the point with the maximum squared distance as a new cluster center. In other words, we will choose the next center based on the maximum of the minimum calculated distance instead of sampling randomly like in step 2. You may break ties arbitrarily.\n",
    "5. Repeat 3-4 until all k-centers have been assigned. You may use a loop over K to keep track of the data in each cluster.\n",
    "\n",
    "#### Updating Cluster Assignments: [5pts]\n",
    "\n",
    "After you've chosen your centers, you will need to update the membership of each point based on the closest center.\n",
    "You will implement this in **update_assignment**. See docstring for more details.\n",
    "\n",
    "#### Updating Centers Assignments: [5pts]\n",
    "\n",
    "Since cluster memberships may have changed, you will need to update the cluster centers. You will implement this in **update_centers**. See docstring for more details.\n",
    "\n",
    "**Hint**: You may use a loop over K to keep track of the data in each cluster. Avoid looping over N individual datapoints.\n",
    "\n",
    "#### Loss & Convergence [5pts]\n",
    "\n",
    "We will consider KMeans to be converged when the change in loss drops below a threshold value. The loss will be\n",
    "defined as the sum of the squared distances between each point and its respective center.\n",
    "\n",
    "\n",
    "#### Train the model [10pts]\n",
    "\n",
    "In the **train** method you will use all of the previously implemented steps to train your KMeans algorithm until convergence. Since the centers have already been initialized in the **init** function the general steps for the `train` method is as follows:\n",
    "\n",
    "1. Update the cluster assignment for each point\n",
    "2. Update the cluster centers based on the new assignments from Step 1\n",
    "3. Check to make sure there is no [mean without a cluster](https://www.youtube.com/watch?v=MAU0gQXn28s), i.e. no cluster center without any points assigned to it.\n",
    "   - In the event of a cluster with no points assigned, pick a random point in the dataset to be the new center and update your cluster assignment accordingly.\n",
    "4. Calculate the loss and check if the model has converged to break the loop early.\n",
    "   - The convergence criteria is measured by whether the percentage of difference in loss with respect to the previous iteration's loss is less than the given relative tolerance threshold (self.rel_tol).\n",
    "5. Iterate through steps 1 to 4 max_iters times. **Make sure to avoid infinite looping.**\n",
    "\n",
    "We have provided the following local tests to help you check your implementation. Provided unit-tests are meant as a guide and are not intended to be comprehensive. See [Using the Local Tests](#using_local_tests) for more details.\n"
   ]
  },
  {
   "cell_type": "code",
   "execution_count": null,
   "metadata": {
    "execution": {
     "iopub.execute_input": "2024-02-05T05:26:46.005425Z",
     "iopub.status.busy": "2024-02-05T05:26:46.005200Z",
     "iopub.status.idle": "2024-02-05T05:26:46.219614Z",
     "shell.execute_reply": "2024-02-05T05:26:46.218833Z"
    }
   },
   "outputs": [],
   "source": [
    "localtests.KMeansTests().test_init()\n",
    "localtests.KMeansTests().test_update_centers()\n",
    "localtests.KMeansTests().test_kmeans_loss()"
   ]
  },
  {
   "cell_type": "markdown",
   "metadata": {},
   "source": [
    "### 1.3 Visualize KMeans [0pts]\n",
    "\n",
    "Eco Emma, a nature enthusiast and budding data scientist from Green Earth University, is working on a series of eco-friendly posters for an environmental awareness campaign. With her digital resources as scarce as a rare bird sighting, Emma needs to simplify her color palette to reduce file sizes. Recalling her Machine Learning lessons, she knows that KMeans clustering can help distill her vibrant nature images into a more streamlined color palette. Your mission is to assist Emma in transforming this lush forest scene into a minimalist beauty using KMeans to find the optimal palette.\n",
    "\n",
    "(Artwork generated by [Fotor](https://www.fotor.com/features/ai-image-generator/))\n",
    "\n",
    "<img src=\"data/images/mountains.png\" width=\"200\">\n",
    "\n",
    "All you need to do is run the next cell. It should output different paintings of the mountains using different numbers of colors."
   ]
  },
  {
   "cell_type": "code",
   "execution_count": null,
   "metadata": {
    "execution": {
     "iopub.execute_input": "2024-02-05T05:26:46.223339Z",
     "iopub.status.busy": "2024-02-05T05:26:46.223120Z",
     "iopub.status.idle": "2024-02-05T05:29:01.639633Z",
     "shell.execute_reply": "2024-02-05T05:29:01.639008Z"
    },
    "id": "ebdi_dyS_Mv5",
    "outputId": "ff63df0c-d9ed-430c-e881-a1645a180c00"
   },
   "outputs": [],
   "source": [
    "###############################\n",
    "### DO NOT CHANGE THIS CELL ###\n",
    "###############################\n",
    "\n",
    "# Note that because of a different file structure, students' paths will be different\n",
    "from utilities import *\n",
    "\n",
    "image_values = image_to_matrix(\"./data/images/mountains.png\")\n",
    "\n",
    "r = image_values.shape[0]\n",
    "c = image_values.shape[1]\n",
    "ch = image_values.shape[2]\n",
    "# flatten the image_values\n",
    "image_values = image_values.reshape(r * c, ch)\n",
    "\n",
    "print(\"Loading...\")\n",
    "\n",
    "image_2 = update_image_values(2, image_values, r, c, ch).reshape(r, c, ch)\n",
    "image_5 = update_image_values(5, image_values, r, c, ch).reshape(r, c, ch)\n",
    "image_10 = update_image_values(10, image_values, r, c, ch).reshape(r, c, ch)\n",
    "image_20 = update_image_values(20, image_values, r, c, ch).reshape(r, c, ch)\n",
    "\n",
    "plot_image(\n",
    "    [image_2, image_5, image_10, image_20], [\"K = 2\", \"K = 5\", \"K = 10\", \"K = 20\"]\n",
    ")\n",
    "\n",
    "plt.show()"
   ]
  },
  {
   "cell_type": "markdown",
   "metadata": {},
   "source": [
    "### 1.4 Fowlkes-Mallow Measure [5pts]\n",
    "\n",
    "In this section, you will create a function to assess the quality of a clustering algorithm using Fowlkes-Mallow. The Fowlkes-Mallow Measure quantifies the goodness or quality of a clustering algorithm when compared to a ground truth.\n",
    "\n",
    "As discussed in class, the computation is as follows:\n",
    "$$FM = \\frac{TP}{\\sqrt{(TP + FN)(TP + FP)}}$$\n",
    "\n",
    "TP (True Positive) represents the number of pairs of data points that are correctly clustered together in both the algorithm's result and the ground truth.\n",
    "\n",
    "TN (True Negative) is the count of pairs of data points that are correctly placed in separate clusters in both the algorithm's result and the ground truth.\n",
    "\n",
    "FP (False Positive) counts the pairs of data points that are incorrectly clustered together in the algorithm's result but correctly separated in the ground truth.\n",
    "\n",
    "FN (False Negative) is the number of pairs of data points that are incorrectly separated in the algorithm's result but correctly clustered together in the ground truth.\n",
    "\n",
    "We have provided the following local tests to help you check your implementation. Provided unit-tests are meant as a guide and are not intended to be comprehensive. See [Using the Local Tests](#using_local_tests) for more details.\n",
    "\n",
    "**Refer to the class notes for more information on the Fowlkes-Mallow Measure**\n"
   ]
  },
  {
   "cell_type": "code",
   "execution_count": null,
   "metadata": {
    "execution": {
     "iopub.execute_input": "2024-02-05T05:29:01.648464Z",
     "iopub.status.busy": "2024-02-05T05:29:01.647926Z",
     "iopub.status.idle": "2024-02-05T05:29:01.665873Z",
     "shell.execute_reply": "2024-02-05T05:29:01.664855Z"
    }
   },
   "outputs": [],
   "source": [
    "localtests.KMeansTests().test_fowlkes_mallow()"
   ]
  },
  {
   "cell_type": "markdown",
   "metadata": {
    "id": "F6RKWYnT_Mv6"
   },
   "source": [
    "### 1.5 Limitation of K-Means [0pts]\n",
    "\n",
    "You've now done the best you can selecting the perfect starting points and the right number of clusters. However, one of the limitations of K-Means Clustering is that it depends largely on the shape of the dataset. A common example of this is trying to cluster one circle within another (concentric circles). A K-means classifier will fail to do this and will end up effectively drawing a line that crosses the circles. You can visualize this limitation in the cell below.\n"
   ]
  },
  {
   "cell_type": "code",
   "execution_count": null,
   "metadata": {
    "execution": {
     "iopub.execute_input": "2024-02-05T05:29:01.669521Z",
     "iopub.status.busy": "2024-02-05T05:29:01.668850Z",
     "iopub.status.idle": "2024-02-05T05:29:01.915714Z",
     "shell.execute_reply": "2024-02-05T05:29:01.914605Z"
    },
    "id": "_R0ckO9H_Mv6",
    "outputId": "5b7e8926-6161-4188-c476-21646664abfd"
   },
   "outputs": [],
   "source": [
    "###############################\n",
    "### DO NOT CHANGE THIS CELL ###\n",
    "###############################\n",
    "\n",
    "# visualize limitation of kmeans\n",
    "from kmeans import *\n",
    "from sklearn.datasets import make_circles, make_moons\n",
    "\n",
    "X1, y1 = make_circles(factor=0.5, noise=0.05, n_samples=1500)\n",
    "X2, y2 = make_moons(noise=0.05, n_samples=1500)\n",
    "\n",
    "\n",
    "def visualise(\n",
    "    X, C, K=None\n",
    "):  # Visualization of clustering. You don't need to change this function\n",
    "    fig, ax = plt.subplots()\n",
    "    ax.scatter(X[:, 0], X[:, 1], c=C, cmap=\"rainbow\")\n",
    "    if K:\n",
    "        plt.title(\"Visualization of K = \" + str(K), fontsize=15)\n",
    "    plt.show()\n",
    "    pass\n",
    "\n",
    "\n",
    "kmeans = KMeans(X1, 2)\n",
    "centers1, cluster_idx1, loss1 = kmeans.train()\n",
    "visualise(X1, cluster_idx1, 2)\n",
    "kmeans = KMeans(X2, 2)\n",
    "centers2, cluster_idx2, loss2 = kmeans.train()\n",
    "visualise(X2, cluster_idx2, 2)"
   ]
  },
  {
   "cell_type": "markdown",
   "metadata": {
    "id": "fKoOWjNL_Mv6"
   },
   "source": [
    "### 1.6 DBSCAN [10 pts Grad / 4.5% Bonus for Undergrad]\n",
    "\n",
    "Let us try to solve these limitations using another clustering algorithm: DBSCAN. As mentioned in lecture, DBSCAN tries to find dense regions in the data space, separated by regions of lower density. DBSCAN is parameterized by two parameters (eps and minPts):\n",
    "\n",
    "- $\\epsilon$: Maximum radius of neighborhood\n",
    "- $MinPts$: Minimum number of points in Eps-neighborhood of a point to be considered \"dense\".\n",
    "\n",
    "Note that each cluster is direct density reachable when a point p is within a core point's epsilon neighborhood. Additionally, clusters can contain density reachable points which means that point p is density reachable from point q if there is a chain of points that are directly density reachable.\n",
    "\n",
    "**Refer to the class slides for the DBSCAN pseudocode** to complete fit(), expandCluster(), and regionQuery() in dbscan.py.\n",
    "\n",
    "**HINTS:**\n",
    "\n",
    "- You might find it easier to implement expandCluster() before attempting to implement fit().\n",
    "- regionQuery() could be used in you implementation of expandCluster()\n",
    "\n",
    "The following unittests will help get you started, but is in no way comprehensive. You are encouraged to extend and create your own test cases. See [Using the Local Tests](#using_local_tests) for more details.\n"
   ]
  },
  {
   "cell_type": "code",
   "execution_count": null,
   "metadata": {
    "execution": {
     "iopub.execute_input": "2024-02-05T05:29:01.918119Z",
     "iopub.status.busy": "2024-02-05T05:29:01.917936Z",
     "iopub.status.idle": "2024-02-05T05:29:01.931956Z",
     "shell.execute_reply": "2024-02-05T05:29:01.931373Z"
    }
   },
   "outputs": [],
   "source": [
    "localtests.DBScanTests().test_region_query()\n",
    "localtests.DBScanTests().test_expand_cluster()"
   ]
  },
  {
   "cell_type": "markdown",
   "metadata": {
    "id": "LOBQ87R-_Mv7"
   },
   "source": [
    "Then, test your fitting by running the cell below. You should be able to get a perfect clustering for the two circles dataset, which you can observe quantitatively by checking whether the clusters returned by cluster_idx and the ground truth clusters are the same and qualitatively by visualizing the clusters.\n"
   ]
  },
  {
   "cell_type": "code",
   "execution_count": null,
   "metadata": {
    "execution": {
     "iopub.execute_input": "2024-02-05T05:29:01.934609Z",
     "iopub.status.busy": "2024-02-05T05:29:01.934420Z",
     "iopub.status.idle": "2024-02-05T05:29:02.170296Z",
     "shell.execute_reply": "2024-02-05T05:29:02.169209Z"
    },
    "id": "HZmNciy9_Mv7",
    "outputId": "6028974a-eb60-4cce-8c35-19b59c653ae3"
   },
   "outputs": [],
   "source": [
    "###############################\n",
    "### DO NOT CHANGE THIS CELL ###\n",
    "###############################\n",
    "\n",
    "BEST_EPS = 0.11\n",
    "BEST_POINTS = 3\n",
    "from dbscan import DBSCAN\n",
    "\n",
    "dbscan = DBSCAN(BEST_EPS, BEST_POINTS, X1)\n",
    "cluster_idx = dbscan.fit()\n",
    "## Note that one of the two cells should print True for a correct implementation\n",
    "print(np.array_equal(y1, cluster_idx))  # Checks if y1 == cluster_idx\n",
    "print(\n",
    "    np.array_equal(y1, 1 - cluster_idx)\n",
    ")  ## Checks if y1 is the exact opposite of cluster_idx (1s instead of 0s and vice-versa)\n",
    "visualise(X1, cluster_idx)"
   ]
  },
  {
   "cell_type": "markdown",
   "metadata": {
    "id": "NnjRdvII_Mv7"
   },
   "source": [
    "# 2. EM algorithm [15pts + 1% Bonus for All]\n"
   ]
  },
  {
   "cell_type": "markdown",
   "metadata": {
    "id": "vEH3Rq6I_Mv7"
   },
   "source": [
    "### 2.1 Performing EM Update [15 pts]\n",
    "\n",
    "**ANSWERS CANNOT BE HANDWRITTEN**\n",
    "\n",
    "A univariate Gaussian Mixture Model (GMM) has two components, both of which have their own mean and standard deviation. The model is defined by the following parameters:\n",
    "$$ \\mathbf{z} \\sim Bernoulli(\\alpha) = \\begin{cases} \\alpha &\\text{if} \\, z=0 \\\\ 1-\\alpha &\\text{if} \\, z=1 \\\\\\end{cases}$$\n",
    "$$ p\\left(\\mathbf{x_n \\mid z=0}\\right) \\sim \\mathcal{N}(3\\upsilon, 8\\omega^{2}) $$\n",
    "$$ p\\left(\\mathbf{x_n \\mid z=1}\\right) \\sim \\mathcal{N}(2\\upsilon, 7\\omega^{2}) $$\n",
    "\n",
    "For a dataset of N datapoints, find the following:\n",
    "\n",
    "2.1.1. Write the marginal probability of x, i.e. $p(x)$ \\[3pts]\n",
    "<br> -- Express your answers in terms of $\\mathcal{N}(x|3\\upsilon, 8\\omega^{2})$ and $\\mathcal{N}(x|2\\upsilon, 7\\omega^{2})$ may be simpler\n",
    "<br> -- HINT: For this question suppose we have a Gaussian Distribution $\\mathcal{N}(2\\upsilon, 7\\omega^{2})$, it means $\\mathcal{N}(\\mu = 2\\upsilon, \\sigma^{2} = 7\\omega^{2})$\n",
    "<br> -- HINT: Start with the Sum Rule\n",
    "\n",
    "\n",
    "2.1.2. E-Step: Compute the posterior probabilities, i.e, $p(z_0|x), p(z_1|x)$ \\[3pts]\n",
    "<br> -- Express your answers in terms of $\\mathcal{N}(3\\upsilon, 8\\omega^{2})$ and $\\mathcal{N}(2\\upsilon, 7\\omega^{2})$\n",
    "<br> -- HINT: Try to apply Bayes Rule\n",
    "\n",
    "2.1.3. M-Step: Compute the updated value of $\\omega^{2}$. (You can keep $\\mu$ fixed when you calculate the derivative.) \\[9pts]\n",
    "<br> -- Note that $\\omega^2$ is a shared variable between the two distributions, your final answer should be one equation including both Gaussian distributions\n",
    "<br> -- Express your answers in terms of $\\tau$, $x$, and $\\upsilon$ (you will need to expand $\\mathcal{N}(3\\upsilon, 8\\omega^{2})$ and $\\mathcal{N}(2\\upsilon, 7\\omega^{2})$ into its PDF form)\n",
    "<br> -- HINT: Start from the below equation, note that $\\theta$ is shorthand for various variables, and take the derivative w.r.t. $\\omega^2$\n",
    "\n",
    "$$\n",
    "\\begin{align*}\n",
    "\\ell(\\theta|x) &= \\sum^{N} \\sum^{Z}_{k \\in \\{0, 1\\}}p(z_k|x_n,\\theta_{old})ln \\left[p(x_n,z_k|\\theta)\\right]\\\\\n",
    "\\ell(\\upsilon, \\omega^2, \\alpha \\mid x)\n",
    "&= \\sum^{N} \\sum^{Z}_{k \\in \\{0, 1\\}} p(z_k \\mid x_n, \\theta_{old}) \\ln\\left[p(x_n, z_k \\mid \\mu_k, \\sigma^2_k, \\alpha)\\right] \\\\\n",
    "&=  \\sum^{N} \\sum^{Z}_{k \\in \\{0, 1\\}} p(z_k \\mid x_n, \\theta_{old}) \\ln \\left[p(z_k \\mid \\alpha) p(x_n \\mid z_k, \\upsilon, \\omega^2)\\right]\n",
    "\\end{align*}\n",
    "$$\n",
    "\n",
    "Recall that $p(x_n \\mid z_k, \\upsilon, \\omega^2) \\rightarrow \\mathcal{N}(x_n \\mid \\mu_k, \\sigma_k)$ has been defined at the beginning of the problem.\n",
    "\n",
    "You can refer to this lecture to gain an understanding of the EM Algorithm. For your convenience, I have included the link below:\n",
    "\n",
    "https://mahdi-roozbahani.github.io/CS46417641-fall2024/course/09-gaussian-mixture.pdf"
   ]
  },
  {
   "cell_type": "markdown",
   "metadata": {},
   "source": []
  },
  {
   "cell_type": "markdown",
   "metadata": {},
   "source": []
  },
  {
   "cell_type": "markdown",
   "metadata": {},
   "source": []
  },
  {
   "cell_type": "markdown",
   "metadata": {},
   "source": [
    "### 2.2 Gradient Ascent and EM algorithm [1% Bonus for All]\n"
   ]
  },
  {
   "cell_type": "markdown",
   "metadata": {},
   "source": [
    "2.2. What is the computational advantage of using the EM algorithm compared to the Gradient Ascent algorithm for the problem presented in 2.1? Please provide your own qualitative analysis. [5pts]\n",
    "<br> -- HINT: Think about the difference in updating parameters during each iteration. i.e. How many parameters need to be updated in gradient descent? What we did in for each iteration in EM algorithm to simplify it? \n"
   ]
  },
  {
   "cell_type": "markdown",
   "metadata": {},
   "source": []
  },
  {
   "cell_type": "markdown",
   "metadata": {
    "id": "fXcuY2pb_Mv7"
   },
   "source": [
    "## 3. GMM implementation [65pts total: 60pts + 1% Bonus for All]\n",
    "\n",
    "**Please make sure to read the problem setup in detail. Many questions for this section may have already been answered in the description and hints and docstrings.**\n",
    "\n",
    "A Gaussian Mixture Model (GMM) is a probabilistic model that assumes all the data points are generated from a mixture of a finite number of Gaussian Distribution. In a nutshell, GMM is a soft clustering algorithm in a sense that each data point is assigned to a cluster with a probability. In order to do that, we need to convert our clustering problem into an inference problem.\n",
    "\n",
    "Given $N$ samples $X = [x_1, x_2, \\ldots, x_N]^T$, where $x_i \\in \\mathbb{R}^D$. Let $\\pi$ be a K-dimensional probability density function and $(\\mu_k; \\Sigma_k)$ be the mean and covariance matrix of the $k^{th}$ Gaussian distribution in $\\mathbb{R}^d$.\n",
    "\n",
    "The GMM object implements EM algorithms for fitting the model and MLE for optimizing its parameters. It also has some particular hypothesis on how the data was generated:\n",
    "\n",
    "- Each data point $x_i$ is assigned to a cluster $k$ with probability of $\\pi_k$ where $\\sum_{k=1}^K \\pi_k = 1$\n",
    "- Each data point $x_i$ is generated from Multivariate Normal Distribution $\\cal{N}(\\mu_k, \\Sigma_k)$ where $\\mu_k \\in \\mathbb{R}^D$ and $\\Sigma_k \\in \\mathbb{R}^{D\\times D}$\n",
    "\n",
    "Our goal is to find a $K$-dimension Gaussian distributions to model our data $X$. This can be done by learning the parameters $\\pi, \\mu$ and $\\Sigma$ through likelihood function. Detailed derivation can be found in our slide of GMM. The log-likelihood function now becomes:\n",
    "\n",
    "\\begin{align}\n",
    "\\text{ln } p(x_1, \\dots, x_N | \\pi, \\mu, \\Sigma) = \\sum_{i=1}^N \\text{ln } \\big( \\sum_{k=1}^{K} \\pi(k) \\mathcal{N}(x_i | \\mu_k, \\Sigma_k)\\big)\n",
    "\\end{align}\n"
   ]
  },
  {
   "cell_type": "markdown",
   "metadata": {
    "id": "tLjk2ZYU_Mv8"
   },
   "source": [
    "From the lecture we know that MLEs for GMM all depend on each other and the responsibility $\\tau$. Thus, we need to use an iterative algorithm (the EM algorithm) to find the estimate of parameters that maximize our likelihood function. **All detailed derivations can be found in the lecture slide of GMM.**\n",
    "\n",
    "- **E-step:** Evaluate the responsibilities\n",
    "\n",
    "In this step, we need to calculate the responsibility $\\tau$, which is the conditional probability that a data point belongs to a specific cluster $k$ if we are given the datapoint, i.e. $P(z_k|x)$. The formula for $\\tau$ is given below:\n",
    "\n",
    "$$\n",
    "\\tau\\left(z_k\\right)=\\frac{\\pi_{k} \\cal{N}\\left(x | \\mu_{k}, \\Sigma_{k}\\right)}{\\sum_{j=1}^{K} \\pi_{j} \\cal{N}\\left(x | \\mu_{j}, \\Sigma_{j}\\right)}, \\quad \\text{for } k = 1, \\dots, K\n",
    "$$\n",
    "\n",
    "Note that each data point should have one probability for each component/cluster. For this homework, you will work with $\\tau\\left(z_k\\right)$ which has a size of $N\\times K$ and you should have all the responsibility values in one matrix.\n",
    "\n",
    "- **M-step:** Re-estimate Paramaters\n",
    "\n",
    "After we obtained the responsibility, we can find the update of parameters, which are given below:\n",
    "\n",
    "\\begin{align}\n",
    "\\mu_k^{new} &= \\dfrac{\\sum_{n=1}^N \\tau(z_k)x_n}{N_k} \\\\\n",
    "\\Sigma_k^{new} &= \\dfrac{1}{N_k}\\sum_{n=1}^N \\tau (z_k)^T(x_n - \\mu_k^{new})^T(x_n-\\mu_k^{new}) \\\\\n",
    "\\pi_k^{new} &= \\dfrac{N_k}{N}\n",
    "\\end{align}\n",
    "where $N_k = \\sum_{n=1}^N \\tau(z_k)$. Note that the updated value for $\\mu_k$ is used when updating $\\Sigma_k$. The multiplication of $\\tau (z_k)^T(x_n - \\mu_k^{new})^T$ is element-wise so it will preserve the dimensions of $(x_n - \\mu_k^{new})^T$.\n",
    "\n",
    "- We repeat E and M steps until the incremental improvement to the likelihood function is small.\n"
   ]
  },
  {
   "cell_type": "markdown",
   "metadata": {
    "id": "Jhd5Z_53_Mv8"
   },
   "source": [
    "**Special Notes**\n",
    "\n",
    "- For undergraduate student: you may assume that the covariance matrix $\\Sigma$ is diagonal matrix, which means the features are independent. (i.e. the red intensity of a pixel is independent from its blue intensity, etc). Make sure you set **FULL_MATRIX = False** before you submit your code to Gradescope.\n",
    "- For graduate student: please assume full covariance matrix. Make sure you set **FULL_MATRIX = True** before you submit your code to Gradescope\n",
    "- The class notes assume that your dataset $X$ is $(D, N)$ but **the homework dataset is $(N, D)$ as mentioned on the instructions, so the formula is a little different from the lecture note in order to obtain the right dimensions of parameters.**\n",
    "\n",
    "**Hints**\n",
    "\n",
    "1. **DO NOT USE FOR LOOPS OVER N.** You can always find a way to avoid looping over the observation datapoints in our homework problem. If you have to loop over D or K, that is fine.\n",
    "\n",
    "2. You can initiate $\\pi(k)$ the same for each $k$, i.e. $\\pi(k) = \\frac{1}{K}, \\forall k = 1, 2, \\ldots, K$.\n",
    "\n",
    "3. In part 3 you are asked to generate the model for pixel clustering of image. We will need to use a multivariate Gaussian because each image will hava $N$ pixels and $D=3$ features which corresponds to red, green, and blue color intensities. It means that each image is a $(N\\times3)$ dataset matrix. In the following parts, remember $D=3$ in this problem.\n",
    "\n",
    "4. To avoid using for loops in your code, we recommend you take a look at the concept [Array Broadcasting in Numpy](https://numpy.org/doc/stable/user/basics.broadcasting.html). Also, certain calculations that required different shapes of arrays can also be achieved by broadcasting.\n",
    "\n",
    "5. Be careful of the dimensions of your parameters. Before you test anything on the autograder, please look at the instructions below on the shapes of the variables you need to output and how to format your return statement. Print the shape of an array by [print(array.shape)](https://www.w3schools.com/python/numpy/numpy_array_shape.asp) could enhance the functionality of your code and help you debugging. Also notice that **a numpy array in shape $(N,1)$ is NOT the same as that in shape $(N,)$** so be careful and consistent on what you are using. You can see the detailed explanation here. [Difference between numpy.array shape (R, 1) and (R,)](https://stackoverflow.com/questions/22053050/difference-between-numpy-array-shape-r-1-and-r)\n",
    "\n",
    "- The dataset $X$: $(N, D)$\n",
    "- $\\mu$: $(K, D)$.\n",
    "- $\\Sigma$: $(K, D, D)$\n",
    "- $\\tau$: $(N, K)$\n",
    "- $\\pi$: array of length $K$\n",
    "- ll_joint: $(N, K)$\n"
   ]
  },
  {
   "cell_type": "markdown",
   "metadata": {
    "id": "1Iviglmb_Mv8"
   },
   "source": [
    "## 3.1 Helper functions [15pts]\n",
    "\n",
    "To facilitate some of the operations in the GMM implementation, we would like you to implement the following three helper functions. In these functions, \"logit\" refers to an input array of size $(N, D)$ that reperesents the unnormalized scores, that are passed to the softmax( ) or logsumexp( ) function. Remember the goal of helper functions is to facilitate our calculation so **DO NOT USE FOR LOOP OVER N**.\n",
    "\n",
    "### 3.1.1. softmax [5pts]\n",
    "\n",
    "Given $logit \\in \\mathbb{R}^{N \\times D}$, calculate $prob \\in \\mathbb{R}^{N \\times D}$, where $prob_{i, j} = \\frac{\\exp(logit_{i, j})}{\\sum_{d=1}^D exp(logit_{i, d})}$.\n",
    "\n",
    "Notes:\n",
    "\n",
    "- $logit$ here refers to the unnormalized scores that are passed in as a parameter to the softmax function. The softmax operation normalizes these scores, resulting in them having values between 0 and 1. This allows us to interpret the normalized scores as a probability distribution over the classes.\n",
    "- It is possible that $logit_{i, j}$ is very large, making $\\exp(\\cdot)$ of it to explode. To make sure it is numerically stable, for each row of $logits$ subtract the maximum of that row.\n",
    "  - By property of Softmax equation, subtracting a constant value does not change the output. [Refer to Mathematical properties](https://en.wikipedia.org/wiki/Softmax_function#Mathematical_properties)\n",
    "  - For an intuitive understanding on why this helps us, consider plotting $e^{-x}$ and $e^x$ on a graphing calculator when $x \\geq 0$\n",
    "\n",
    "**Special Notes**\n",
    "\n",
    "- Do not add back the maximum for each row.\n",
    "- Add **keepdims=True** in your np.sum() function to avoid broadcast error.\n",
    "\n",
    "### 3.1.2. logsumexp [3pts Programming + 2pts Written Questions]\n",
    "\n",
    "Given $logit \\in \\mathbb{R}^{N \\times D}$, calculate $s \\in \\mathbb{R}^N$, where $s_i = \\log \\big( \\sum_{j=1}^D \\exp(logit_{i, j}) \\big)$. Again, pay attention to the numerical problem. You may face similar conditions to the softmax function due to $logit_{i, j}$ being large. Therefore, you should add the maximum for each row of $logit$ back for your functions before returning the final value. \n",
    "\n",
    "**Special Notes**\n",
    "\n",
    "- This function is used in the call() function, which is given, and helps calculate the loss of log-likelihood. You will not have to call it in functions that you are required to implement.\n"
   ]
  },
  {
   "cell_type": "markdown",
   "metadata": {},
   "source": [
    "#### Written Questions [2pts]:\n",
    "\n",
    "1. Why should we add the maximum for each row of $logit$ to **logsumexp()** function? Show your reason by calculating and observing the relationship between $F$ and $s_1$.\n",
    "   <br> -- Use a simple input like $logit \\in \\mathbb{R}^{1 \\times 3}$ and work through a mathematical example.\n",
    "   <br> -- Let N=1, D=3, $logit = \\{ logit_{11},logit_{12}, logit_{13} \\} $ and $max = logit_{13}$ is the maximum for this row. $F$ is the array that subtracts the maximum for each row of $logits$.\n",
    "   <br> -- Start by subtracting the max of the row from each element in $s_1 = \\log \\big( \\sum_{j=1}^D \\exp(logit_{1, j}) \\big)$\n"
   ]
  },
  {
   "cell_type": "markdown",
   "metadata": {
    "id": "YFB_8-vj_Mv8"
   },
   "source": []
  },
  {
   "cell_type": "markdown",
   "metadata": {
    "id": "Ig0zfoum_Mv8"
   },
   "source": [
    "### 3.1.3. Multivariate Gaussian PDF [5pts]\n",
    "\n",
    "You should be able to write your own function based on the following formula, and you are **NOT allowed** to use outside resource packages other than those we provided.\n",
    "\n",
    "**(for undergrads only) normalPDF**\n",
    "\n",
    "Using the covariance matrix as a diagonal matrix with variances of the individual variables appearing on the main diagonal of the matrix and zeros everywhere else means that we assume the features are independent. In this case, the multivariate normal density function simplifies to the expression below:\n",
    "$$\\mathcal{N}(x: \\mu, \\Sigma) = \\prod_{i=1}^D \\frac{1}{\\sqrt{2\\pi\\sigma_i^2}}\\exp{\\left( -\\frac{1}{2\\sigma_i^2} (x_i-\\mu_i)^2\\right)}$$\n",
    "where $\\sigma^2_i$ is the variance for the $i^{th}$ feature, which is the diagonal element of the covariance matrix.\n",
    "\n",
    "**(for grads only) multinormalPDF**\n",
    "\n",
    "Given the dataset $X \\in \\mathbb{R}^{N \\times D}$, the mean vector $\\mu \\in \\mathbb{R}^{D}$ and covariance matrix $\\Sigma \\in \\mathbb{R}^{D \\times D}$ for a multivariate Gaussian distrubution, calculate the probability $p \\in \\mathbb{R}^{N}$ of each data. The PDF is given by\n",
    "$$\\mathcal{N}(X: \\mu, \\Sigma) = \\frac{1}{(2\\pi)^{D/2}}|\\Sigma|^{-1/2}\\exp{\\left(-\\frac{1}{2}(X-\\mu)\\Sigma^{-1}(X-\\mu)^T\\right)}$$\n",
    "where $|\\Sigma|$ is the determinant of the covariance matrix.\n",
    "\n",
    "**Hints:**\n",
    "\n",
    "- If you encounter \"LinAlgError\", you can mitigate your number/array by summing a small value before taking the operation, e.g. np.linalg.inv($\\Sigma_k$ + SIGMA_CONST). You can arrest and handle such error by using [Try and Exception Block](https://realpython.com/python-exceptions/#the-try-and-except-block-handling-exceptions) in Python. Please only add `SIGMA_CONST` to all elements when `sigma_i` is not invertible.\n",
    "\n",
    "- In the above calculation, you must avoid computing a $(N,N)$ matrix. Using the above equation for large N will crash your kernel and/or give you a memory error on Gradescope. Instead, you can do this same operation by calculating $(X-\\mu)\\Sigma^{-1}$, a $(N,D)$ matrix, transpose it to be a $(D,N)$ matrix and do an element-wise multiplication with $(X-\\mu)^T$, which is also a $(D,N)$ matrix. Lastly, you will need to sum over the 0 axis to get a $(1,N)$ matrix before proceeding with the rest of the calculation. This uses the fact that doing an element-wise multiplication and summing over the 0 axis is the same as taking the diagonal of the $(N,N)$ matrix from the matrix multiplication.\n",
    "\n",
    "- In Numpy implementation for each individual $\\mu$, you can either use a 2-D array with dimension $(1,D)$ for each Gaussian Distribution, or a 1-D array with length $D$. Same to other array parameters. Both ways should be acceptable but pay attention to the shape mismatch problem and be **consistent all the time** when you implement such arrays.\n",
    "\n",
    "- Please **DO NOT** use `self.D` in your implementation of `multinormalPDF()` .\n"
   ]
  },
  {
   "cell_type": "markdown",
   "metadata": {
    "id": "Cj-SyonU_Mv9"
   },
   "source": [
    "### 3.2 GMM Implementation [30pts]\n"
   ]
  },
  {
   "cell_type": "markdown",
   "metadata": {
    "id": "nVoCLl_3_Mv9"
   },
   "source": [
    "Things to do in this problem:\n",
    "\n",
    "### 3.2.1. Initialize parameters in \\_init_components() [5pts]\n",
    "\n",
    "Examples of how you can initialize the parameters.\n",
    "\n",
    "1. `create_pi()`: Set the prior probability $\\pi$ the same for each class.\n",
    "2. `create_mu()`: Initialize $\\mu$ by randomly selecting K numbers of observations as the initial mean vectors. You can use [int(np.random.uniform())](https://numpy.org/doc/stable/reference/random/generated/numpy.random.uniform.html) to get the row index number of the datapoints randomly.\n",
    "3. `create_sigma()`: Initialize the covariance matrix with [np.eye()](https://numpy.org/devdocs/reference/generated/numpy.eye.html) for each k. For grads, you can also initialize the $\\Sigma$ by K diagonal matrices. It will become a full matrix after one iteration, as long as you adopt the correct computation.\n",
    "4. You are expected to call these methods in the `_init_components()` method\n",
    "5. The autograder will only test the shape of your $\\pi$,$\\mu$, $\\sigma$. Make sure you pass other evaluations in the autograder.\n",
    "\n",
    "### 3.2.2. Formulate the log-likelihood function \\_ll_joint() [10pts]\n",
    "\n",
    "The log-likelihood function is given by:\n",
    "\n",
    "$$\n",
    "\\begin{align}\n",
    "    \\ell(\\theta) = \\sum_{i=1}^N \\text{ln } \\big( \\sum_{k=1}^{K} \\pi(k) \\mathcal{N}(x_i | \\mu_k, \\Sigma_k)\\big)\n",
    "\\end{align}\n",
    "$$\n",
    "\n",
    "In this part, we will generate a $(N,K)$ matrix where each datapoint $x_i, \\forall i = 1, \\dots, N$ has $K$ log-likelihood numbers. Thus, for each $i = 1, \\dots, N$ and $k = 1, \\dots, K$,\n",
    "\n",
    "$$\n",
    "\\text{log-likelihood}[i,k] = \\log{\\pi_k}+\\log{\\cal{N}(x_i|\\mu_k, \\Sigma_k)}\n",
    "$$\n",
    "\n",
    "**Hints:**\n",
    "\n",
    "- If you encounter \"ZeroDivisionError\" or \"RuntimeWarning: divide by zero encountered in log\", you can mitigate your number/array by summing a small value before taking the operation, e.g. $\\text{log-likelihood}[i,k] = \\log{(\\pi_k + \\text{1e-32})}+\\log{(\\cal{N}(x_i|\\mu_k, \\Sigma_k) + \\text{1e-32})}$. If you pass the local test cases but fail the autograder, make sure you sum a small value like the example we given.\n",
    "- You need to use the Multivariate Normal PDF function you created in the last part. Remember the PDF function is for each Gaussian Distribution (i.e. for each k) so you need to use a for loop over K.\n"
   ]
  },
  {
   "cell_type": "markdown",
   "metadata": {
    "id": "7EOWVBev_Mv9"
   },
   "source": [
    "### 3.2.3. Setup Iterative steps for EM Algorithm [5pts + 10pts]\n",
    "\n",
    "You can find the detail instruction in the above description box.\n",
    "\n",
    "**Hints:**\n",
    "\n",
    "- For E steps, we already get the log-likelihood at \\_ll_joint() function. This is not the same as responsibilities ($\\tau$), but you should be able to finish this part with just a few lines of code by using \\_ll_joint() and softmax() defined above.\n",
    "- For undergrads: Try to simplify your calculation for $\\Sigma$ in M steps as you assumed independent components. Make sure you are only taking the diagonal terms of your calculated covariance matrix.\n"
   ]
  },
  {
   "cell_type": "markdown",
   "metadata": {
    "id": "acABZ2wk_Mv-"
   },
   "source": [
    "### Function Tests\n",
    "\n",
    "Use these to test if your implementation of functions in GMM work as expected. See [Using the Local Tests](#using_local_tests) for more details.\n"
   ]
  },
  {
   "cell_type": "code",
   "execution_count": null,
   "metadata": {
    "id": "-AYRHI1s_Mv-"
   },
   "outputs": [],
   "source": [
    "###############################\n",
    "### DO NOT CHANGE THIS CELL ###\n",
    "###############################\n",
    "\n",
    "from gmm import GMM, cluster_pixels_gmm\n",
    "from utilities import plot_images\n",
    "\n",
    "gmm_tester = localtests.GMMTests()"
   ]
  },
  {
   "cell_type": "code",
   "execution_count": null,
   "metadata": {
    "colab": {
     "base_uri": "https://localhost:8080/"
    },
    "id": "VMuVVgYn_Mv-",
    "outputId": "ae873429-2d1b-4987-913d-749efe0b4a77"
   },
   "outputs": [],
   "source": [
    "gmm_tester.test_helper_functions()\n",
    "gmm_tester.test_init_components()"
   ]
  },
  {
   "cell_type": "code",
   "execution_count": null,
   "metadata": {
    "colab": {
     "base_uri": "https://localhost:8080/"
    },
    "id": "eYB4Dpzm_Mv_",
    "outputId": "1be9fc28-dfe5-4809-a341-541c3c7a1e6c"
   },
   "outputs": [],
   "source": [
    "gmm_tester.test_undergrad()"
   ]
  },
  {
   "cell_type": "code",
   "execution_count": null,
   "metadata": {
    "colab": {
     "base_uri": "https://localhost:8080/"
    },
    "id": "OLsPpJKK_Mv_",
    "outputId": "7ca97408-896d-48c9-c8a4-cf4a949fb91b"
   },
   "outputs": [],
   "source": [
    "gmm_tester.test_grad()"
   ]
  },
  {
   "cell_type": "markdown",
   "metadata": {
    "id": "hBt48eRG_MwA"
   },
   "source": [
    "## 3.3 Image Compression and pixel clustering [10pts]\n",
    "\n",
    "Images typically need a lot of bandwidth to be transmitted over the network. In order to optimize this process, most image processors perform lossy compression of images (lossy implies some information is lost in the process of compression).\n",
    "\n",
    "In this section, you will use your GMM algorithm implementation to do pixel clustering and compress the images. That is to say, you would develop a lossy image compression algorithm. This question is autograded based on your GMM implementation. \n",
    "(Hint: you can adjust the number of clusters formed and justify your answer based on visual inspection of the resulting images or on a different metric of your choosing)\n",
    "\n",
    "Implement the `cluster_pixels_gmm` function in gmm.py. Each pixel can be considered as a separate data point (of length 3), which you can then cluster using GMM. Then, process the outputs into the shape of the original image, where each pixel is its most likely value. What do $\\mu$ and $\\tau$ represent?\n",
    "\n",
    "**Special Notes**\n",
    "\n",
    "- Try to add a small value(e.g. SIGMA_CONST and LOG_CONST) before taking the operation if the output image is solid black.\n",
    "- The output images may be slightly different due to different initialization methods in GMM() function.\n",
    "- Sample with replacement in `create_mu`"
   ]
  },
  {
   "cell_type": "code",
   "execution_count": null,
   "metadata": {},
   "outputs": [],
   "source": [
    "gmm_tester.test_undergrad_image_compression()"
   ]
  },
  {
   "cell_type": "code",
   "execution_count": null,
   "metadata": {},
   "outputs": [],
   "source": [
    "gmm_tester.test_grad_image_compression()"
   ]
  },
  {
   "cell_type": "code",
   "execution_count": null,
   "metadata": {
    "colab": {
     "base_uri": "https://localhost:8080/",
     "height": 1000
    },
    "id": "oL9sGASK_MwA",
    "outputId": "7c3601cb-105f-4319-81c1-4d7f073d4035"
   },
   "outputs": [],
   "source": [
    "###############################\n",
    "### DO NOT CHANGE THIS CELL ###\n",
    "###############################\n",
    "\n",
    "img1_dir = \"./data/images/image_test_1.jpg\"\n",
    "img2_dir = \"./data/images/image_test_2.jpg\"\n",
    "\n",
    "def perform_compression(image, min_clusters=10, max_clusters=20):\n",
    "    for K in range(min_clusters, max_clusters + 1, 5):\n",
    "        gmm_image_k = cluster_pixels_gmm(image, K, max_iters=10, full_matrix=True)\n",
    "        plot_images([image, gmm_image_k], [\"original\", \"gmm=\" + str(K)])\n",
    "\n",
    "image1 = imageio.imread(img1_dir)\n",
    "perform_compression(image1, 10, 15)\n",
    "\n",
    "image2 = imageio.imread(img2_dir)\n",
    "perform_compression(image2, 10, 15)"
   ]
  },
  {
   "cell_type": "markdown",
   "metadata": {
    "id": "lfUa5dql_MwB"
   },
   "source": [
    "## 3.4 Compare full covariance matrix with diagonal covariance matrix [1% Bonus for All]\n",
    "\n",
    "Compare the results of clustering an image with full covariance matrix and diagonal covariance matrix. Can you explain why the images are different with same clusters?\n",
    "Note: You will have to implement both multinormalPDF and normalPDF, and add a few arguments in the original \\_ll_joint(), \\_M_step(), \\_E_step() function. **You will earn full credit only if you implement all functions AND provide an explanation.**\n"
   ]
  },
  {
   "cell_type": "code",
   "execution_count": null,
   "metadata": {
    "execution": {
     "iopub.execute_input": "2024-02-05T05:31:41.374563Z",
     "iopub.status.busy": "2024-02-05T05:31:41.374338Z",
     "iopub.status.idle": "2024-02-05T05:31:41.389178Z",
     "shell.execute_reply": "2024-02-05T05:31:41.388643Z"
    },
    "id": "qN8YMc3I_MwB"
   },
   "outputs": [],
   "source": [
    "###############################\n",
    "### DO NOT CHANGE THIS CELL ###\n",
    "###############################\n",
    "\n",
    "\n",
    "def compare_matrix(image, K):\n",
    "    \"\"\"\n",
    "    Args:\n",
    "        image: input image of shape(H, W, 3)\n",
    "        K: number of components\n",
    "\n",
    "    Return:\n",
    "        plot: comparison between full covariance matrix and diagonal covariance matrix.\n",
    "    \"\"\"\n",
    "    # full covariance matrix\n",
    "    gmm_image_full = cluster_pixels_gmm(image, K, 10, full_matrix=True)\n",
    "    # diagonal covariance matrix\n",
    "    gmm_image_diag = cluster_pixels_gmm(image, K, 10, full_matrix=False)\n",
    "\n",
    "    plot_images(\n",
    "        [gmm_image_full, gmm_image_diag],\n",
    "        [\"full covariance matrix\", \"diagonal covariance matrix\"],\n",
    "    )"
   ]
  },
  {
   "cell_type": "code",
   "execution_count": null,
   "metadata": {
    "colab": {
     "base_uri": "https://localhost:8080/",
     "height": 589
    },
    "execution": {
     "iopub.execute_input": "2024-02-05T05:31:41.391897Z",
     "iopub.status.busy": "2024-02-05T05:31:41.391699Z",
     "iopub.status.idle": "2024-02-05T05:34:31.604675Z",
     "shell.execute_reply": "2024-02-05T05:34:31.604017Z"
    },
    "id": "uVQU4PL4_MwB",
    "outputId": "934bca01-3457-46fe-f8a0-d5cca902978d"
   },
   "outputs": [],
   "source": [
    "compare_matrix(image2, 20)"
   ]
  },
  {
   "cell_type": "markdown",
   "metadata": {},
   "source": []
  },
  {
   "cell_type": "markdown",
   "metadata": {},
   "source": [
    "## 3.5 Generate samples from a Gaussian Mixture [5pts]\n"
   ]
  },
  {
   "cell_type": "markdown",
   "metadata": {},
   "source": [
    "In this question, you will be fitting your GMM implementation on a 2D Gaussian Mixture to estimate the parameters of the distributions that make up the mixture, and then using these estimated parameters to generate samples.\n"
   ]
  },
  {
   "cell_type": "code",
   "execution_count": null,
   "metadata": {
    "execution": {
     "iopub.execute_input": "2024-02-05T05:34:31.616507Z",
     "iopub.status.busy": "2024-02-05T05:34:31.616189Z",
     "iopub.status.idle": "2024-02-05T05:34:31.740066Z",
     "shell.execute_reply": "2024-02-05T05:34:31.739342Z"
    }
   },
   "outputs": [],
   "source": [
    "###############################\n",
    "### DO NOT CHANGE THIS CELL ###\n",
    "###############################\n",
    "\n",
    "data = np.load(\"./data/gaussian_clusters.npy\")\n",
    "print(data.shape)\n",
    "\n",
    "plt.plot(data[:, 0], data[:, 1], \"x\")\n",
    "plt.axis(\"equal\")\n",
    "plt.title(\"2-D Gaussian Mixture\")\n",
    "plt.show()"
   ]
  },
  {
   "cell_type": "markdown",
   "metadata": {},
   "source": [
    "Now, you need to estimate the parameters of the Gaussian Mixture, and then use these estimated parameters to generate 1000 samples from the Gaussian Mixture. Plot the sampled datapoints. **You should notice that it resembles the original Gaussian Mixture.**\n",
    "\n",
    "**Steps**\n",
    "\n",
    "- First, to estimate the parameters of the Gaussian Mixture, you'll need to fit your GMM implementation to the dataset. You need to specify K=4 to represent 4 gaussians in our model, and run the EM algorithm. You'll have to choose the value for max_iters. If at the end of this section, your plot of the sampled datapoints doesn't look like the original distribution, you may need to increase max_iters to fit the GMM model better, and obtain better estimates of the parameters.\n",
    "- Once you heve the estimated parameters, we'll need to sample 1000 datapoints from the Gaussian Mixture. You will be using a technique called Rejection Sampling discussed below. Here are some external sources that may help: https://cosmiccoding.com.au/tutorials/rejection_sampling, https://towardsdatascience.com/rejection-sampling-with-python-d7a30cfc327b\n",
    "  - We will be taking the approach from the first link, but extending it into the 2D space.\n",
    "- The formula for the density function is $f(x_i) = \\sum_{k=1}^{K} \\pi(k) \\mathcal{N}(x_i | \\mu_k, \\Sigma_k)$\n"
   ]
  },
  {
   "cell_type": "markdown",
   "metadata": {},
   "source": [
    "**Generating vs Sampling**\n",
    "To generate points directly from a given distribution is done via Inverse transform sampling. In inverse transform sampling, we require taking the inverse of cummulative distribution function for our gaussian mixture model. This operation in general can be expensive unless there is some known formula for inverting the CDF. It is also not always possible to take the inverse of the CDF of a gaussian mixture model. For these reasons we will implement a sampling method instead. This sampling method will give us points matching the gmm without the computation and mathematical concerns of generation.\n",
    "\n",
    "**Rejection Sampling**\n",
    "\n",
    "Conventionally we think of Gaussian Mixture Models as a form of soft clustering, but you can also think of them as an algorithm for estimating density of data points with gaussians. Thus we can take an arbitary data point and using the gaussian mixture model as an estimation for the density at a given location. From here we want the points that we sample to be proportional to the density at a given location.\n",
    "\n",
    "We go about this by, choosing an arbitary point (x,y). Then we use the density formula function $f(x_i) = \\sum_{k=1}^{K} \\pi(k) \\mathcal{N}(x_i | \\mu_k, \\Sigma_k)$ to find out what the density of points is at (x,y). Now that we have the density, we can draw a random number between 0 and the maximum density to determine if we will keep or discard (x,y). If the random number drawn is less than the density, then (x,y) is our sample, otherwise we discard (x,y) and repeat. This method ensure that the samples we generate are proportional to the density predicted by our GMM at any given area.\n"
   ]
  },
  {
   "cell_type": "code",
   "execution_count": null,
   "metadata": {},
   "outputs": [],
   "source": [
    "# Fit your GMM model here:"
   ]
  },
  {
   "cell_type": "code",
   "execution_count": null,
   "metadata": {
    "execution": {
     "iopub.execute_input": "2024-02-05T05:34:31.903955Z",
     "iopub.status.busy": "2024-02-05T05:34:31.903764Z",
     "iopub.status.idle": "2024-02-05T05:34:31.918549Z",
     "shell.execute_reply": "2024-02-05T05:34:31.918010Z"
    }
   },
   "outputs": [],
   "source": [
    "###############################\n",
    "### DO NOT CHANGE THIS CELL ###\n",
    "###############################\n",
    "\n",
    "# Extract x and y\n",
    "x = data[:, 0]\n",
    "y = data[:, 1]\n",
    "\n",
    "# Define the borders of the grid\n",
    "deltaX = (max(x) - min(x)) / 10\n",
    "deltaY = (max(y) - min(y)) / 10\n",
    "xmin = min(x) - deltaX\n",
    "xmax = max(x) + deltaX\n",
    "ymin = min(y) - deltaY\n",
    "ymax = max(y) + deltaY\n",
    "\n",
    "\n",
    "# Create meshgrid\n",
    "xx, yy = np.mgrid[xmin:xmax:100j, ymin:ymax:100j]\n",
    "# coordinates of the points that make the grid\n",
    "positions = np.vstack([xx.ravel(), yy.ravel()]).T"
   ]
  },
  {
   "cell_type": "code",
   "execution_count": null,
   "metadata": {
    "execution": {
     "iopub.execute_input": "2024-02-05T05:34:31.921200Z",
     "iopub.status.busy": "2024-02-05T05:34:31.921016Z",
     "iopub.status.idle": "2024-02-05T05:34:31.936337Z",
     "shell.execute_reply": "2024-02-05T05:34:31.935652Z"
    }
   },
   "outputs": [],
   "source": [
    "def density(points, pi, mu, sigma, gmm):\n",
    "    \"\"\"Evaluate the density at each point on the grid.\n",
    "    Args:\n",
    "        points: (N, 2) numpy array containing the coordinates of the points that make up the grid.\n",
    "        pi: (K,) numpy array containing the mixture coefficients for each class\n",
    "        mu: (K, D) numpy array containing the means of each cluster\n",
    "        sigma: (K, D, D) numpy array containing the covariance matrixes of each cluster\n",
    "        gmm: an instance of the GMM model\n",
    "\n",
    "    Return:\n",
    "        densities: (N, ) numpy array containing densities at each point on the grid\n",
    "\n",
    "    HINT: You should be using the formula given in the hints.\n",
    "    \"\"\"\n",
    "    # TODO: Implement this function\n",
    "    return densities\n",
    "\n",
    "\n",
    "# get the density at each coordinate on the grid\n",
    "densities = np.reshape(density(positions, pi, mu, sigma, gmm), xx.shape)"
   ]
  },
  {
   "cell_type": "code",
   "execution_count": null,
   "metadata": {
    "execution": {
     "iopub.execute_input": "2024-02-05T05:34:31.939209Z",
     "iopub.status.busy": "2024-02-05T05:34:31.939012Z",
     "iopub.status.idle": "2024-02-05T05:34:32.685720Z",
     "shell.execute_reply": "2024-02-05T05:34:32.685297Z"
    }
   },
   "outputs": [],
   "source": [
    "###############################\n",
    "### DO NOT CHANGE THIS CELL ###\n",
    "###############################\n",
    "\n",
    "fig = plt.figure(figsize=(13, 7), dpi=100)\n",
    "ax = plt.axes(projection=\"3d\")\n",
    "surf = ax.plot_surface(\n",
    "    xx, yy, densities, rstride=1, cstride=1, cmap=\"coolwarm\", edgecolor=\"none\"\n",
    ")\n",
    "ax.set_xlabel(\"x\")\n",
    "ax.set_ylabel(\"y\")\n",
    "ax.set_zlabel(\"PDF\")\n",
    "ax.set_title(\"Surface plot of 2D Gaussian Mixture Densities\")\n",
    "fig.colorbar(surf, shrink=0.5, aspect=5)  # add color bar indicating the PDF\n",
    "ax.view_init(60, 35)\n",
    "plt.show()"
   ]
  },
  {
   "cell_type": "code",
   "execution_count": null,
   "metadata": {
    "execution": {
     "iopub.execute_input": "2024-02-05T05:34:33.795053Z",
     "iopub.status.busy": "2024-02-05T05:34:33.794845Z",
     "iopub.status.idle": "2024-02-05T05:34:33.810546Z",
     "shell.execute_reply": "2024-02-05T05:34:33.809839Z"
    }
   },
   "outputs": [],
   "source": [
    "###############################\n",
    "### DO NOT CHANGE THIS CELL ###\n",
    "###############################\n",
    "\n",
    "\n",
    "def rejection_sample(xmin, xmax, ymin, ymax, gmm, dmax=1, M=0.1):\n",
    "    \"\"\"Performs rejection sampling. Keep sampling datapoints until d <= f(x, y) / M\n",
    "    Args:\n",
    "        xmin: lower bound on x values\n",
    "        xmax: upper bound on x values\n",
    "        ymin: lower bound on y values\n",
    "        ymax: upper bound on y values\n",
    "        gmm: an instance of the GMM model\n",
    "        dmax: the upper bound on d\n",
    "        M: scale_factor. can be used to control the fraction of samples that are rejected\n",
    "\n",
    "    Return:\n",
    "        x, y: the coordinates of the sampled datapoint\n",
    "\n",
    "    HINT: Refer to the links in the hints\n",
    "    \"\"\"\n",
    "    while True:\n",
    "        x = np.random.uniform(low=xmin, high=xmax)\n",
    "        y = np.random.uniform(low=ymin, high=ymax)\n",
    "        d = np.random.uniform(low=0, high=dmax)\n",
    "        if d < density(np.array([x, y]).reshape(1, 2), pi, mu, sigma, gmm) / M:\n",
    "            return x, y"
   ]
  },
  {
   "cell_type": "code",
   "execution_count": null,
   "metadata": {
    "execution": {
     "iopub.execute_input": "2024-02-05T05:34:33.813885Z",
     "iopub.status.busy": "2024-02-05T05:34:33.813670Z",
     "iopub.status.idle": "2024-02-05T05:34:37.820315Z",
     "shell.execute_reply": "2024-02-05T05:34:37.819706Z"
    }
   },
   "outputs": [],
   "source": [
    "###############################\n",
    "### DO NOT CHANGE THIS CELL ###\n",
    "###############################\n",
    "\n",
    "\n",
    "# Sample datapoints using Rejection Sampling\n",
    "generated_datapoints = np.zeros((1000, 2))\n",
    "i = 0\n",
    "while i < 1000:\n",
    "    generated_datapoints[i, 0], generated_datapoints[i, 1] = rejection_sample(\n",
    "        xmin, xmax, ymin, ymax, gmm, dmax=1\n",
    "    )\n",
    "    if i % 100 == 0:\n",
    "        print(i)\n",
    "    i += 1"
   ]
  },
  {
   "cell_type": "code",
   "execution_count": null,
   "metadata": {
    "execution": {
     "iopub.execute_input": "2024-02-05T05:34:37.823753Z",
     "iopub.status.busy": "2024-02-05T05:34:37.823535Z",
     "iopub.status.idle": "2024-02-05T05:34:37.938532Z",
     "shell.execute_reply": "2024-02-05T05:34:37.937862Z"
    }
   },
   "outputs": [],
   "source": [
    "###############################\n",
    "### DO NOT CHANGE THIS CELL ###\n",
    "###############################\n",
    "\n",
    "plt.scatter(generated_datapoints[:, 0], generated_datapoints[:, 1])\n",
    "plt.axis(\"equal\")\n",
    "plt.title(\"Sampled Datapoints\")\n",
    "plt.show()"
   ]
  },
  {
   "cell_type": "markdown",
   "metadata": {
    "id": "NhVsVVOA_MwB"
   },
   "source": [
    "## 4. (Bonus for All) Cleaning Messy data and semi-supervised learning [8% Bonus for All]\n",
    "\n",
    "Learning to work with messy data is a hallmark of a well-rounded data scientist. In most real-world settings the data given will usually have some issue, so it is important to learn skills to work around such impasses. This part of the assignment looks to expose you to clever ways to fix data using concepts that you have already learned in the prior questions.\n",
    "\n",
    "#### Question\n",
    "\n",
    "Congratulations! you recently graduated with your shiny GT degree. You've decided to pursue your childhood dream to study astrophysics. Stationed at a cutting edge Gamma Ray Telescope facility as a Data Scientist, delving into the high-energy physics of the universe, your mission is to probe the enigmatic Sagittarius A*, the supermassive black hole in the center of our galaxy, using a telescope that views the cosmos through gamma rays emitted by the most cataclysmic events in space like neutron star mergers, pulsars, and the voracious accretion disks of black holes. SUPER EXCITING!\n",
    "\n",
    "The cutting edge telescope you are working with detects these really high energy gamma ray emissions from really small windows in the sky. You find that the telescope can be configured with a few parameters to detect these particles. These parameters, 10 in number, range from the telescope's orientation and timing precision to the sensitivity settings that find the faintest gamma signals against the cosmic background.\n",
    "\n",
    "However, your cosmic quest faces an unexpected challenge. A data corruption incident has left a 15% void across your dataset, affecting both the intricate telescope parameters and the critical gamma ray detection records. This isn't just a minor hiccup; it's a significant obstacle in your path to unraveling the mysteries of our galaxy's heart.\n",
    "\n",
    "But there's a silver lining. You remember that the machine learning techniques learnt in CS4641/7641 are the key to navigating this data loss issue. This challenge transforms into an opportunity to showcase the resilience and ingenuity of data science in the face of adversity. How will you leverage your skills to reconstruct the missing pieces and ensure that your exploration of Sagittarius A* yields groundbreaking insights into the universe's most profound secrets?\n",
    "\n",
    "Task: \n",
    "Clean the data and implement a semi-supervised learning framework to classify the detection of gamma rays for your experiments. The data has 10 feature columns containing the telescope's parameters and one column containing a binary label containing either (0 or 1) representing the absence or a presence of a signal.\n",
    "\n",
    "You are given two files for this task:\n",
    "\n",
    "- data.csv: the entire dataset with complete and incomplete data\n",
    "- validation.csv: a smaller, fully complete dataset made after the intern deleted the datapoints\n",
    "\n",
    "\n",
    "\n",
    "\n"
   ]
  },
  {
   "cell_type": "markdown",
   "metadata": {
    "id": "XNi4X5bk_MwB"
   },
   "source": [
    "### 4.1 Data Cleaning [2.8%]\n",
    "\n",
    "### 4.1.a Data Separating [0.7%]\n",
    "\n",
    "The first step is to break up the whole dataset into clear parts. All the data is randomly shuffled in one csv file. In order to move forward, the data needs to be split into three separate arrays:\n",
    "\n",
    "- labeled_complete: containing the complete characterization data and corresponding labels\n",
    "- labeled_incomplete: containing partial characterization data (i.e., one of the features is NaN) and corresponding labels\n",
    "- unlabeled_complete: containing complete characterization data but no corresponding labels (i.e., the label is NaN)\n",
    "\n",
    "In **semisupervised.py**, implement the following methods:\n",
    "\n",
    "- complete\\_\n",
    "- incomplete\\_\n",
    "- unlabeled\\_\n"
   ]
  },
  {
   "cell_type": "markdown",
   "metadata": {},
   "source": [
    "<img src=\"data/images/dirty_dataset_example.png\" width=\"1000\">\n"
   ]
  },
  {
   "cell_type": "code",
   "execution_count": null,
   "metadata": {
    "execution": {
     "iopub.execute_input": "2024-02-05T05:34:37.941281Z",
     "iopub.status.busy": "2024-02-05T05:34:37.941061Z",
     "iopub.status.idle": "2024-02-05T05:34:37.955424Z",
     "shell.execute_reply": "2024-02-05T05:34:37.954705Z"
    },
    "id": "oKXYgzvc_MwC",
    "outputId": "7b99134a-19d8-4759-ea33-bc8aa7b64439"
   },
   "outputs": [],
   "source": [
    "###############################\n",
    "### DO NOT CHANGE THIS CELL ###\n",
    "###############################\n",
    "\n",
    "localtests.SemisupervisedTests().test_data_separating_methods()"
   ]
  },
  {
   "cell_type": "markdown",
   "metadata": {
    "id": "CoW4bOY1_MwC"
   },
   "source": [
    "### 4.1.b KNN [1.4%]\n",
    "\n",
    "The second step in this task is to clean the Labeled_incomplete dataset by filling in the missing values with probable ones derived from complete data. A useful approach to this type of problem is using a [k-nearest neighbors (k-NN) algorithm](https://www.freecodecamp.org/news/k-nearest-neighbors-algorithm-classifiers-and-model-example/). For this application, the method consists of replacing the missing value of a given point with the mean of the closest k-neighbors to that point. Given that you are focusing on neighbouring points, the margin of error from actual missing values should be limited.\n",
    "\n",
    "In the **CleanData** class in **semisupervised.py**, implement the following methods:\n",
    "\n",
    "- pairwise_dist\n",
    "- \\_\\_call\\_\\_\n"
   ]
  },
  {
   "cell_type": "markdown",
   "metadata": {
    "id": "paq2V-yu_MwC"
   },
   "source": [
    "The unit test is a good expectation of what the process should look like on a toy dataset. If your output matches the answer, you are on the right track. Run the following cell to check.\n",
    "\n",
    "NOTE: Your rows of data should match with the expected output, although the order of the rows does not necessarily matter.\n"
   ]
  },
  {
   "cell_type": "code",
   "execution_count": null,
   "metadata": {
    "execution": {
     "iopub.execute_input": "2024-02-05T05:34:37.958449Z",
     "iopub.status.busy": "2024-02-05T05:34:37.958236Z",
     "iopub.status.idle": "2024-02-05T05:34:37.972623Z",
     "shell.execute_reply": "2024-02-05T05:34:37.971841Z"
    },
    "id": "PZ0M7oKV_MwC",
    "outputId": "e918a1e2-206e-44f2-ccf7-f17b3bf20fc8"
   },
   "outputs": [],
   "source": [
    "###############################\n",
    "### DO NOT CHANGE THIS CELL ###\n",
    "###############################\n",
    "\n",
    "localtests.SemisupervisedTests().test_cleandata()"
   ]
  },
  {
   "cell_type": "markdown",
   "metadata": {},
   "source": [
    "### 4.1.c Median of Features [0.7%]\n",
    "\n",
    "Another method of filling the missing values is by using the median of individual features. Our goal with replacing NaN values is to insert values in their place while also minimally disturbing the overall distribution of each feature. Using the median of features helps avoid drastically changing the distribution of our data. This is also why while we could technically replace NaN values with 0, it is generally not advised to do so.\n",
    "\n",
    "Implement the median_clean_data method in accordance with this rule.\n",
    "NOTE: There should be no NaN values in the n\\*d array that you return from median_clean_data.\n",
    "\n",
    "In **semisupervised.py**, implement the following method:\n",
    "\n",
    "- median_clean_data\n"
   ]
  },
  {
   "cell_type": "code",
   "execution_count": null,
   "metadata": {
    "execution": {
     "iopub.execute_input": "2024-02-05T05:34:37.975342Z",
     "iopub.status.busy": "2024-02-05T05:34:37.975114Z",
     "iopub.status.idle": "2024-02-05T05:34:37.988740Z",
     "shell.execute_reply": "2024-02-05T05:34:37.987801Z"
    }
   },
   "outputs": [],
   "source": [
    "###############################\n",
    "### DO NOT CHANGE THIS CELL ###\n",
    "###############################\n",
    "\n",
    "localtests.SemisupervisedTests().test_median_clean_data()"
   ]
  },
  {
   "cell_type": "markdown",
   "metadata": {
    "id": "3xqpO5wU_MwD"
   },
   "source": [
    "### 4.2 Semi-supervised Learning [3.5%]\n",
    "\n",
    "### 4.2.a Getting acquainted with semi-supervised learning approaches. [1.2%]\n",
    "\n",
    "Take a look at the algorithm presented in Table 1 of the paper [\"Text Classification from Labeled and Unlabeled Documents using EM\"](http://www.kamalnigam.com/papers/emcat-mlj99.pdf) by Nigam et al. (2000). While you are recommended to read the whole paper this assignment focuses on items 5.1, 5.2, and 6.1. Write a brief summary of three interesting highlights of the paper (50-words maximum).\n"
   ]
  },
  {
   "cell_type": "markdown",
   "metadata": {
    "id": "47oHreu7_MwD"
   },
   "source": [
    "### 4.2.b Implementing the EM algorithm. [2.3%]\n",
    "\n",
    "Implement the EM algorithm proposed by Nigam et al. (2000) on Table 1, using a Gaussian Naive Bayes (GNB) classifier instead of a Naive Bayes (NB) classifier. What's the difference between the way of initialization in the paper and the way introduced in class?\n",
    "\n",
    "(Hint: Using a GNB in place of an NB will enable you to reuse most of the implementation you developed for GMM in this assignment. In fact, you can successfully solve the problem by simply modifying the call and \\_init_components methods.)\n",
    "\n",
    "In the **SemiSupervised** class in **semisupervised.py**, implement the following methods:\n",
    "\n",
    "- \\_init_components\n",
    "- \\_\\_call\\_\\_\n"
   ]
  },
  {
   "cell_type": "markdown",
   "metadata": {
    "id": "-vmUAYXN_MwD"
   },
   "source": [
    "### 4.3 Demonstrating the performance of the algorithm. [1.1%]\n",
    "\n",
    "Compare the classification error based on the Gaussian Naive Bayes (GNB) classifier you implemented following the Nigam et al. (2000) approach to the performance of a GNB classifier trained using only labeled data. Since you have not covered supervised learning in class, you are allowed to use the scikit learn library for training the GNB classifier based only on labeled data: https://scikit-learn.org/stable/modules/generated/sklearn.naive_bayes.GaussianNB.html.\n",
    "\n",
    "In the **ComparePerformance** class in **semisupervised.py**, implement the following method:\n",
    "\n",
    "- accuracy_semi_supervised\n",
    "- accuracy_GNB\n",
    "\n",
    "To acheive the full 5 points you must implement the `ComparePerformance.accuracy_semi_supervised` and `ComparePerformance.accuracy_GNB` methods and get these scores:\n",
    "\n",
    "- accuracy_complete_data_only > 71%\n",
    "- accuracy_cleaned_data > 71%\n",
    "- accuracy_semi_supervised > 69%\n"
   ]
  },
  {
   "cell_type": "code",
   "execution_count": null,
   "metadata": {
    "execution": {
     "iopub.execute_input": "2024-02-05T05:34:37.991478Z",
     "iopub.status.busy": "2024-02-05T05:34:37.991274Z",
     "iopub.status.idle": "2024-02-05T05:34:38.003826Z",
     "shell.execute_reply": "2024-02-05T05:34:38.003276Z"
    },
    "id": "25JoKgo7_MwD"
   },
   "outputs": [],
   "source": [
    "###############################\n",
    "### DO NOT CHANGE THIS CELL ###\n",
    "###############################\n",
    "from semisupervised import (\n",
    "    CleanData,\n",
    "    ComparePerformance,\n",
    "    complete_,\n",
    "    incomplete_,\n",
    "    median_clean_data,\n",
    "    unlabeled_,\n",
    ")"
   ]
  },
  {
   "cell_type": "code",
   "execution_count": null,
   "metadata": {
    "execution": {
     "iopub.execute_input": "2024-02-05T05:34:38.006797Z",
     "iopub.status.busy": "2024-02-05T05:34:38.006585Z",
     "iopub.status.idle": "2024-02-05T05:34:39.710559Z",
     "shell.execute_reply": "2024-02-05T05:34:39.709877Z"
    },
    "id": "ysS1zMpX_MwD",
    "outputId": "68213a00-3a0e-435c-b42e-374a0d7d22ca"
   },
   "outputs": [],
   "source": [
    "###############################\n",
    "### DO NOT CHANGE THIS CELL ###\n",
    "###############################\n",
    "\n",
    "# Load training data\n",
    "all_data = np.loadtxt(\"data/data.csv\", delimiter=\",\")\n",
    "\n",
    "# Separate training data into categories: labeled complete, labeled incomplete, and unlabeled points\n",
    "labeled_complete = complete_(all_data)\n",
    "labeled_incomplete = incomplete_(all_data)\n",
    "unlabeled = unlabeled_(all_data)\n",
    "\n",
    "# Perform data cleaning on labeled incomplete data\n",
    "cleaned_data = CleanData()(labeled_incomplete, labeled_complete, 10)\n",
    "\n",
    "# Combine cleaned data with unlabeled data\n",
    "cleaned_and_unlabeled = np.concatenate((cleaned_data, unlabeled), 0)\n",
    "\n",
    "# Category for data that is guaranteed to have label values\n",
    "labeled_data = np.concatenate((labeled_complete, labeled_incomplete), 0)\n",
    "\n",
    "# Perform median data cleaning on all labeled data\n",
    "median_cleaned_data = median_clean_data(labeled_data)\n",
    "\n",
    "# Print data shapes\n",
    "print(f\"All Data shape:                 {all_data.shape}\")\n",
    "print(f\"Labeled Complete shape:         {labeled_complete.shape}\")\n",
    "print(f\"Labeled Incomplete shape:       {labeled_incomplete.shape}\")\n",
    "print(f\"Labeled shape:                  {labeled_data.shape}\")\n",
    "print(f\"Unlabeled shape:                {unlabeled.shape}\")\n",
    "print(f\"Cleaned data shape:             {cleaned_data.shape}\")\n",
    "print(f\"Cleaned + Unlabeled data shape: {cleaned_and_unlabeled.shape}\")\n",
    "\n",
    "# load validation data\n",
    "validation = np.loadtxt(\"data/validation.csv\", delimiter=\",\")\n",
    "\n",
    "# =========================================================================\n",
    "# SUPERVISED GNB WITH ONLY THE COMPLETE DATA (SKLEARN)\n",
    "accuracy_complete_data_only = ComparePerformance.accuracy_GNB(\n",
    "    labeled_complete, validation\n",
    ")\n",
    "# =========================================================================\n",
    "# SUPERVISED GNB WITH CLEAN DATA (SKLEARN)\n",
    "accuracy_cleaned_data = ComparePerformance.accuracy_GNB(cleaned_data, validation)\n",
    "# =========================================================================\n",
    "# SUPERVISED GNB WITH MEDIAN CLEAN DATA (SKLEARN)\n",
    "accuracy_median_cleaned_data = ComparePerformance.accuracy_GNB(\n",
    "    median_cleaned_data, validation\n",
    ")\n",
    "# =========================================================================\n",
    "# SEMI SUPERVISED GNB WITH ALL DATA (your implementation)\n",
    "accuracy_semi_supervised = ComparePerformance.accuracy_semi_supervised(\n",
    "    cleaned_and_unlabeled, validation, 2\n",
    ")\n",
    "# ==========================================================================\n",
    "# COMPARISON\n",
    "print(\"\"\"===COMPARISON===\"\"\")\n",
    "print(\n",
    "    f\"Supervised with only complete data, GNB Accuracy: {np.round(100.0 * accuracy_complete_data_only, 3)}%\"\n",
    ")\n",
    "print(\n",
    "    f\"Supervised with KNN clean data, GNB Accuracy:     {np.round(100.0 * accuracy_cleaned_data, 3)}%\"\n",
    ")\n",
    "print(\n",
    "    f\"Supervised with Median clean data, GNB Accuracy:    {np.round(100.0 * accuracy_median_cleaned_data, 3)}%\"\n",
    ")\n",
    "print(\n",
    "    f\"SemiSupervised Accuracy:                          {np.round(100.0 * accuracy_semi_supervised, 3)}%\"\n",
    ")"
   ]
  },
  {
   "cell_type": "markdown",
   "metadata": {},
   "source": [
    "### 4.4 Interpretation of Results. [0.6%]\n",
    "\n",
    "What are the differences in using the kNN method and the median method to fill NaN values? Explain in terms of the results you get from each. What would be some advantages of using the median method to fill in NaN values over using the **mean** of features?\n"
   ]
  },
  {
   "cell_type": "markdown",
   "metadata": {},
   "source": []
  },
  {
   "cell_type": "markdown",
   "metadata": {},
   "source": [
    "## 5. Evaluating Data Representation in K-Means Clustering  [4pts]\n",
    "\n",
    "A national healthcare system employs a K-means clustering algorithm to optimize healthcare resource distribution. Two datasets are used: one from Harborview, an underdeveloped city, and another from Greenfield, a developed city. The algorithm is applied to both datasets to identify healthcare resource allocation needs.\n",
    "\n",
    "Datasets from vastly different settings might differ in incidence of chronic conditions, or preventive care and better healthcare access. Compare the heatmaps below:"
   ]
  },
  {
   "cell_type": "code",
   "execution_count": null,
   "metadata": {
    "execution": {
     "iopub.execute_input": "2024-02-05T05:34:39.713186Z",
     "iopub.status.busy": "2024-02-05T05:34:39.712837Z",
     "iopub.status.idle": "2024-02-05T05:34:40.781083Z",
     "shell.execute_reply": "2024-02-05T05:34:40.780223Z"
    }
   },
   "outputs": [],
   "source": [
    "%run Vis_DoNotChange.py"
   ]
  },
  {
   "cell_type": "markdown",
   "metadata": {},
   "source": [
    "Question:  \n",
    "Which of the following statements are correct? (Select all that apply)\n",
    "\n",
    "- A. Sensitivity to the scale and scope of the data might result in the urgency of certain health conditions being overlooked.\n",
    "- B. Uniform resource distribution between cities is the best ethical approach. \n",
    "- C. Concentrating on general data trends, the algorithm may overlook the specific healthcare needs of smaller, underrepresented groups.\n",
    "- D. If data contains underrepresentation of certain demographic groups, existing disparities (as shown by the plot) might be magnified.\n",
    "- E. The outputs of unsupervised algorithms like K-means clustering are inherently unbiased, as they do not rely on pre-labeled data."
   ]
  },
  {
   "cell_type": "markdown",
   "metadata": {},
   "source": [
    "**Answer** = A, C, D"
   ]
  }
 ],
 "metadata": {
  "colab": {
   "collapsed_sections": [
    "xuEnlmN4_Mv5",
    "OYMGmHnb_Mv5",
    "AsQ451om_Mv6",
    "F6RKWYnT_Mv6",
    "B5lmW2uC_Mv6",
    "fKoOWjNL_Mv6",
    "vEH3Rq6I_Mv7",
    "Ig0zfoum_Mv8",
    "Cj-SyonU_Mv9",
    "nVoCLl_3_Mv9",
    "7EOWVBev_Mv9",
    "XNi4X5bk_MwB",
    "CoW4bOY1_MwC",
    "3xqpO5wU_MwD",
    "47oHreu7_MwD",
    "-vmUAYXN_MwD"
   ],
   "name": "SUMMER2022_HW2_Solutions.ipynb",
   "provenance": []
  },
  "kernelspec": {
   "display_name": "ml_hw2",
   "language": "python",
   "name": "python3"
  },
  "language_info": {
   "codemirror_mode": {
    "name": "ipython",
    "version": 3
   },
   "file_extension": ".py",
   "mimetype": "text/x-python",
   "name": "python",
   "nbconvert_exporter": "python",
   "pygments_lexer": "ipython3",
   "version": "3.11.10"
  },
  "toc": {
   "base_numbering": 1,
   "nav_menu": {},
   "number_sections": true,
   "sideBar": true,
   "skip_h1_title": false,
   "title_cell": "Table of Contents",
   "title_sidebar": "Contents",
   "toc_cell": false,
   "toc_position": {},
   "toc_section_display": true,
   "toc_window_display": false
  }
 },
 "nbformat": 4,
 "nbformat_minor": 4
}
