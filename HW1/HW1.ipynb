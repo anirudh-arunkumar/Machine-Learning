{
 "cells": [
  {
   "cell_type": "markdown",
   "metadata": {
    "id": "xs9yYSRW_Mvs"
   },
   "source": [
    "## Fall 2024 CS4641/CS7641 A Homework 1 - Programming Section\n",
    "\n",
    "## Instructor: Dr. Mahdi Roozbahani\n",
    "\n",
    "## Deadline: Friday, September 20th, 11:59 pm EST\n",
    "\n",
    "<!-- No changes needed on the below section -->\n",
    "* No unapproved extension of the deadline is allowed. Submissions past our 48-hour penalized acceptance period will lead to 0 credit. \n",
    "\n",
    "* Discussion is encouraged on Ed as part of the Q/A. However, all assignments should be done individually.\n",
    "<font color='darkred'>\n",
    "* Plagiarism is a **serious offense**. You are responsible for completing your own work. You are not allowed to copy and paste, or paraphrase, or submit materials created or published by others, as if you created the materials. All materials submitted must be your own.</font>\n",
    "<font color='darkred'>\n",
    "* All incidents of suspected dishonesty, plagiarism, or violations of the Georgia Tech Honor Code will be subject to the institute’s Academic Integrity procedures. If we observe any (even small) similarities/plagiarisms detected by Gradescope or our TAs, **WE WILL DIRECTLY REPORT ALL CASES TO OSI**, which may, unfortunately, lead to a very harsh outcome. **Consequences can be severe, e.g., academic probation or dismissal, grade penalties, a 0 grade for assignments concerned, and prohibition from withdrawing from the class.**\n",
    "</font>\n"
   ]
  },
  {
   "cell_type": "markdown",
   "metadata": {
    "id": "uI6nZBMF_Mvw",
    "tags": []
   },
   "source": [
    "## Instructions for the assignment \n",
    "\n",
    "<!-- No changes needed on the below section -->\n",
    "- This assignment consists of warm-up programming questions designed to get you familiar with our programming homework structure."
   ]
  },
  {
   "cell_type": "markdown",
   "metadata": {
    "id": "g7stIuyo_Mvx"
   },
   "source": [
    "## Using the autograder\n",
    "\n",
    "- Grads will typically find three assignments on Gradescope and Undergrads will typically find four assignments:\n",
    "    - \"Assignment X Non-programming\": Where you will submit the written portion of the assignment.\n",
    "    - \"Assignment X Programming\": Where you will submit any .py files and any program outputs as required by the problem.\n",
    "    - \"Assignment X Programming - Bonus for All\": Where you will submit any .py files and any program outputs as required for Bonus for All.\n",
    "    - \"Assignment X Programming - Bonus for Undergrad\": Where you will submit any .py files and any program outputs as required for Bonus for Undergrand. (Undergrad Only)\n",
    "\n",
    "<!-- No changes needed on the below section -->\n",
    "- You will submit your code for the autograder in the Assignment 1 Programming section. \n",
    "\n",
    "- We provided you .py files and we added libraries in those files please DO NOT remove those lines and add your code after those lines. Note that these are the only allowed libraries that you can use for the homework.\n",
    "\n",
    "- You are allowed to make as many submissions until the deadline as you like. Additionally, note that the autograder tests each function separately, therefore it can serve as a useful tool to help you debug your code if you are not sure of what part of your implementation might have an issue.\n",
    "<!-- No changes needed on the above section -->"
   ]
  },
  {
   "cell_type": "markdown",
   "metadata": {
    "id": "_Nz2030u_Mvy",
    "tags": []
   },
   "source": [
    "## Deliverables and Points Distribution \n",
    "\n",
    "### Q7: Programming Warm-Up [5pts total]\n",
    "#### Deliverables: \n",
    "- `warmup.py`\n",
    "- `env.pkl`\n",
    "\n",
    "#### Parts: \n",
    "- **Setup** [2pts] - *programming*\n",
    "\n",
    "- **Numpy** [3pts] - _programming_\n",
    "    - Numpy Basics [2pts]\n",
    "    - Broadcasting [1pts] "
   ]
  },
  {
   "cell_type": "markdown",
   "metadata": {
    "id": "cKKsCsvo_Mvz"
   },
   "source": [
    "## 7.1 Setup [1pt]\n",
    "\n",
    "- **Deliverable:** `env.pkl`\n",
    "\n",
    "This notebook is tested under [python 3.11](https://www.python.org/downloads/release/python-3110/), and the corresponding packages can be downloaded from [miniconda](https://docs.conda.io/en/latest/miniconda.html). You may also want to get yourself familiar with several packages:\n",
    "\n",
    "- [jupyter lab](https://jupyterlab.readthedocs.io/en/stable/): provides a web-based IDE with a built-in debugging functionality for jupyter notebooks.\n",
    "- [numpy](https://numpy.org/doc/1.23/): a high performance math library backed by C\n",
    "- [matplotlib](https://matplotlib.org/users/pyplot_tutorial.html): a python plotting libaray\n",
    "\n",
    "Other packages you may find indispensable in machine learning (and potentially your project) are:\n",
    "  \n",
    "- [scikit-learn](https://scikit-learn.org/stable/getting_started.html): provides many classical ML and data analysis algorithms\n",
    "- [pandas](https://pandas.pydata.org/docs/): provides many useful tools for organizing and manipulating data\n",
    "- [seaborn](https://seaborn.pydata.org/tutorial/introduction.html): make beatiful plots with less fidgeting in matplotlib\n",
    "- [plotly](https://plotly.com/python/): another great data visualization package\n",
    "\n",
    "Please implement the functions that have \"raise NotImplementedError\", and after you finish the coding, please delete or comment \"raise NotImplementedError\"."
   ]
  },
  {
   "cell_type": "code",
   "execution_count": 1,
   "metadata": {
    "execution": {
     "iopub.execute_input": "2024-09-03T02:31:04.393981Z",
     "iopub.status.busy": "2024-09-03T02:31:04.392751Z",
     "iopub.status.idle": "2024-09-03T02:31:05.044064Z",
     "shell.execute_reply": "2024-09-03T02:31:05.042338Z"
    }
   },
   "outputs": [
    {
     "name": "stdout",
     "output_type": "stream",
     "text": [
      "Version information\n",
      "python: 3.11.9 (main, Apr 19 2024, 16:48:06) [GCC 11.2.0]\n",
      "numpy: 1.26.2\n"
     ]
    }
   ],
   "source": [
    "###############################\n",
    "### DO NOT CHANGE THIS CELL ###\n",
    "###############################\n",
    "\n",
    "import sys\n",
    "\n",
    "sys.path.append(\"./utilities/\")\n",
    "sys.path.append(\"warmup.py\")\n",
    "\n",
    "import numpy as np\n",
    "\n",
    "print(\"Version information\")\n",
    "\n",
    "print(\"python: {}\".format(sys.version))\n",
    "print(\"numpy: {}\".format(np.__version__))\n",
    "\n",
    "\n",
    "%load_ext autoreload\n",
    "%autoreload 2"
   ]
  },
  {
   "cell_type": "markdown",
   "metadata": {
    "id": "Ysr89SO3_Mv0"
   },
   "source": [
    "### 7.1.1 Basics, Imports, and Directories\n",
    "For the following part, you will need to ensure your notebook runtime is started in the correct directory. You can verify this with the following cell."
   ]
  },
  {
   "cell_type": "code",
   "execution_count": 2,
   "metadata": {
    "execution": {
     "iopub.execute_input": "2024-09-03T02:31:05.118325Z",
     "iopub.status.busy": "2024-09-03T02:31:05.117093Z",
     "iopub.status.idle": "2024-09-03T02:31:05.173372Z",
     "shell.execute_reply": "2024-09-03T02:31:05.171378Z"
    }
   },
   "outputs": [
    {
     "data": {
      "text/plain": [
       "'/app/src/teacher_files'"
      ]
     },
     "execution_count": 2,
     "metadata": {},
     "output_type": "execute_result"
    }
   ],
   "source": [
    "###############################\n",
    "### DO NOT CHANGE THIS CELL ###\n",
    "###############################\n",
    "\n",
    "# RUN ME #\n",
    "import os\n",
    "\n",
    "os.getcwd()"
   ]
  },
  {
   "cell_type": "markdown",
   "metadata": {},
   "source": [
    "In the cell below, import the `PackageUtils` class from `utils.py`."
   ]
  },
  {
   "cell_type": "code",
   "execution_count": 3,
   "metadata": {
    "execution": {
     "iopub.execute_input": "2024-09-03T02:31:05.179481Z",
     "iopub.status.busy": "2024-09-03T02:31:05.178969Z",
     "iopub.status.idle": "2024-09-03T02:31:05.216217Z",
     "shell.execute_reply": "2024-09-03T02:31:05.214536Z"
    }
   },
   "outputs": [],
   "source": [
    "# YOUR CODE HERE #"
   ]
  },
  {
   "cell_type": "markdown",
   "metadata": {},
   "source": [
    "In the cell below, call the `get_packages` method of the PackageUtils class to see what packages are installed in this notebook's runtime environment."
   ]
  },
  {
   "cell_type": "code",
   "execution_count": 5,
   "metadata": {
    "execution": {
     "iopub.execute_input": "2024-09-03T02:31:05.584596Z",
     "iopub.status.busy": "2024-09-03T02:31:05.583994Z",
     "iopub.status.idle": "2024-09-03T02:31:05.632061Z",
     "shell.execute_reply": "2024-09-03T02:31:05.630583Z"
    },
    "tags": []
   },
   "outputs": [],
   "source": [
    "# YOUR CODE HERE #"
   ]
  },
  {
   "cell_type": "markdown",
   "metadata": {},
   "source": [
    "### 7.1.2 Local Testing & Debugging\n",
    "\n",
    "Optional local tests using a small toy dataset are sometimes provided to aid in debugging. The local tests are all stored in localtests.py\n",
    "#### The autograder is the final arbiter\n",
    "- There are no points associated with passing or failing the local tests, you must still pass the autograder to get points. \n",
    "- It is possible to fail the local test and pass the autograder.\n",
    "    - The autograder may have tolerances to account for minor implementation differences. \n",
    "    - The reverse is also true, as the autograder may cover a larger number of corner cases.\n",
    "- **You do not need to pass both local and autograder tests to get points, passing the Gradescope autograder is sufficient for credit.**\n",
    "\n",
    "#### Work smarter, not harder\n",
    "- Read the stack trace carefully. Often it will tell you exactly what's wrong.\n",
    "- Understand what the local-test is doing. That way you can develop your own tests. \n",
    "- Grow beyond the print statement: embrace a debugger. Jupyter-lab has a [built in debugger](https://jupyterlab.readthedocs.io/en/stable/user/debugger.html) which allows you to look at data types, set breakpoints, and examine variables. If using a different IDE, look up your IDE's documentation on how to setup a proper debugger. \n",
    "- Develop incrementally and test frequently, both localy and on Gradescope. Waiting to complete the whole class before testing can make it hard to isolate errors. "
   ]
  },
  {
   "cell_type": "markdown",
   "metadata": {},
   "source": [
    "For this problem perform the following in the cell below: \n",
    "- import `WarmupTests` from the `localtests.py`. \n",
    "- Run the cell and submit `env.pkl`"
   ]
  },
  {
   "cell_type": "code",
   "execution_count": 7,
   "metadata": {
    "execution": {
     "iopub.execute_input": "2024-09-03T02:31:06.129750Z",
     "iopub.status.busy": "2024-09-03T02:31:06.129289Z",
     "iopub.status.idle": "2024-09-03T02:31:06.199673Z",
     "shell.execute_reply": "2024-09-03T02:31:06.197576Z"
    }
   },
   "outputs": [],
   "source": [
    "import unittest\n",
    "\n",
    "# import WarmupTests from the localtests.py in the utilities folder.\n",
    "\n",
    "# END YOUR CODE ABOVE #"
   ]
  },
  {
   "cell_type": "code",
   "execution_count": 9,
   "metadata": {
    "execution": {
     "iopub.execute_input": "2024-09-03T02:31:06.265407Z",
     "iopub.status.busy": "2024-09-03T02:31:06.264073Z",
     "iopub.status.idle": "2024-09-03T02:31:06.324036Z",
     "shell.execute_reply": "2024-09-03T02:31:06.322505Z"
    }
   },
   "outputs": [
    {
     "name": "stderr",
     "output_type": "stream",
     "text": [
      ".\n"
     ]
    },
    {
     "name": "stdout",
     "output_type": "stream",
     "text": [
      "Passed test_get_packages\n"
     ]
    },
    {
     "name": "stderr",
     "output_type": "stream",
     "text": [
      "----------------------------------------------------------------------\n",
      "Ran 1 test in 0.006s\n",
      "\n",
      "OK\n"
     ]
    }
   ],
   "source": [
    "###############################\n",
    "### DO NOT CHANGE THIS CELL ###\n",
    "###############################\n",
    "result = unittest.main(\n",
    "    argv=[\"ignored\", \"WarmupTests.test_get_packages\"], verbosity=1, exit=False\n",
    ")\n",
    "if not result.result.wasSuccessful():\n",
    "    sys.exit(1)"
   ]
  },
  {
   "attachments": {},
   "cell_type": "markdown",
   "metadata": {},
   "source": [
    "## 7.2 Numpy Basics [2pt]\n",
    "The following exercise will familiarize you with the basics of working with Numpy and navigating the [numpy documentation](https://numpy.org/doc/1.23/reference/index.html)\n",
    "\n",
    "In `warmup.py` you will implement several \"one-liners\" using functions provided by numpy. No points will be awarded on Gradescope for any use of for loops or list comprehensions. Implement the following functions in `warmup.py`:\n",
    "\n",
    "- indices_of_k\n",
    "- argmax_1d\n",
    "- mean_rows\n",
    "- sum_squares\n",
    "\n",
    "You may test your implementation with the below local tests. These local tests only checks the returned values of your implementation and does not check whether your implementation uses loops. Gradescope will check to make sure your implementation does not use loops (for, while, or list comprehensions).\n",
    "\n",
    "<span style=\"color:red\">**WARNING: Make sure you match the dimensions of the output given in the comments of required function in warmup.py**</span>\n",
    "\n",
    "<span style=\"color:red\">HINT: Print and see what numpy functions are doing as much as you can!</span>"
   ]
  },
  {
   "cell_type": "code",
   "execution_count": 10,
   "metadata": {
    "execution": {
     "iopub.execute_input": "2024-09-03T02:31:06.330883Z",
     "iopub.status.busy": "2024-09-03T02:31:06.330342Z",
     "iopub.status.idle": "2024-09-03T02:31:06.404334Z",
     "shell.execute_reply": "2024-09-03T02:31:06.402952Z"
    }
   },
   "outputs": [
    {
     "name": "stderr",
     "output_type": "stream",
     "text": [
      ".....\n",
      "----------------------------------------------------------------------\n",
      "Ran 5 tests in 0.010s\n",
      "\n",
      "OK\n"
     ]
    },
    {
     "name": "stdout",
     "output_type": "stream",
     "text": [
      "Correct Values for argmax_1d\n",
      "Passed test_get_packages\n",
      "Correct Values for indices_of_k\n",
      "Correct Values for mean_rows\n",
      "Correct Values for sum_squares\n"
     ]
    }
   ],
   "source": [
    "###############################\n",
    "### DO NOT CHANGE THIS CELL ###\n",
    "###############################\n",
    "import unittest\n",
    "\n",
    "result = unittest.main(argv=[\"\"], verbosity=1, exit=False)\n",
    "\n",
    "if not result.result.wasSuccessful():\n",
    "    sys.exit(1)"
   ]
  },
  {
   "cell_type": "markdown",
   "metadata": {},
   "source": [
    "## 7.3 Broadcasting [1pt]\n",
    "\n",
    "One of the simplest and most common similarity metrics in ML is the Manhattan Distance or [taxicab-distance](https://en.wikipedia.org/wiki/Taxicab_geometry). The function below takes two lists of $N$ points in $D$ dimensional space (NxD numpy arrays) and computes the Manhattan distance between every possible pair of points. *Hint: you can use this to try creating your own unittests*\n",
    "\n",
    "Unfortunately such an implementation is too slow for a large dataset. In `fast_manhattan` leverage the broadcasting properties of numpy to create a faster version in a single line."
   ]
  },
  {
   "cell_type": "code",
   "execution_count": 11,
   "metadata": {
    "execution": {
     "iopub.execute_input": "2024-09-03T02:31:06.410336Z",
     "iopub.status.busy": "2024-09-03T02:31:06.409926Z",
     "iopub.status.idle": "2024-09-03T02:31:06.454829Z",
     "shell.execute_reply": "2024-09-03T02:31:06.453357Z"
    }
   },
   "outputs": [],
   "source": [
    "###############################\n",
    "### DO NOT CHANGE THIS CELL ###\n",
    "###############################\n",
    "\n",
    "import numpy as np\n",
    "\n",
    "\n",
    "def slow_manhattan(x, y):\n",
    "    \"\"\"\n",
    "    Args:\n",
    "        x: N x D numpy array\n",
    "        y: M x D numpy array\n",
    "     Return:\n",
    "        dist: N x M numpy array, where dist[i, j] is the Manhattan distance between\n",
    "        x[i, :] and y[j, :]\n",
    "    \"\"\"\n",
    "    dist = np.empty((x.shape[0], y.shape[0]))\n",
    "    for i in range(x.shape[0]):\n",
    "        for j in range(y.shape[0]):\n",
    "            d = 0\n",
    "            for k in range(x.shape[1]):\n",
    "                d += abs(x[i][k] - y[j][k])\n",
    "            dist[i][j] = d\n",
    "    return dist"
   ]
  },
  {
   "cell_type": "markdown",
   "metadata": {},
   "source": [
    "Let's test the speed of this naive implementation:"
   ]
  },
  {
   "cell_type": "code",
   "execution_count": 12,
   "metadata": {
    "execution": {
     "iopub.execute_input": "2024-09-03T02:31:06.460765Z",
     "iopub.status.busy": "2024-09-03T02:31:06.460313Z",
     "iopub.status.idle": "2024-09-03T02:31:09.582705Z",
     "shell.execute_reply": "2024-09-03T02:31:09.581151Z"
    }
   },
   "outputs": [
    {
     "name": "stdout",
     "output_type": "stream",
     "text": [
      "38 ms ± 881 µs per loop (mean ± std. dev. of 7 runs, 10 loops each)\n"
     ]
    }
   ],
   "source": [
    "%%timeit\n",
    "\n",
    "###############################\n",
    "### DO NOT CHANGE THIS CELL ###\n",
    "###############################\n",
    "\n",
    "\n",
    "x = np.random.rand(100, 3)\n",
    "y = np.random.rand(100, 3)\n",
    "d = slow_manhattan(x, y)"
   ]
  },
  {
   "cell_type": "markdown",
   "metadata": {},
   "source": [
    "Compare this with the vectorized implementation:"
   ]
  },
  {
   "cell_type": "code",
   "execution_count": 13,
   "metadata": {
    "execution": {
     "iopub.execute_input": "2024-09-03T02:31:09.597542Z",
     "iopub.status.busy": "2024-09-03T02:31:09.595902Z",
     "iopub.status.idle": "2024-09-03T02:31:09.654069Z",
     "shell.execute_reply": "2024-09-03T02:31:09.652502Z"
    }
   },
   "outputs": [],
   "source": [
    "###############################\n",
    "### DO NOT CHANGE THIS CELL ###\n",
    "###############################\n",
    "\n",
    "import warmup"
   ]
  },
  {
   "cell_type": "code",
   "execution_count": 14,
   "metadata": {
    "execution": {
     "iopub.execute_input": "2024-09-03T02:31:09.660243Z",
     "iopub.status.busy": "2024-09-03T02:31:09.659430Z",
     "iopub.status.idle": "2024-09-03T02:31:14.049683Z",
     "shell.execute_reply": "2024-09-03T02:31:14.048042Z"
    }
   },
   "outputs": [
    {
     "name": "stdout",
     "output_type": "stream",
     "text": [
      "535 µs ± 5.48 µs per loop (mean ± std. dev. of 7 runs, 1,000 loops each)\n"
     ]
    }
   ],
   "source": [
    "%%timeit\n",
    "\n",
    "###############################\n",
    "### DO NOT CHANGE THIS CELL ###\n",
    "###############################\n",
    "\n",
    "x = np.random.rand(100, 3)\n",
    "y = np.random.rand(100, 3)\n",
    "d = warmup.fast_manhattan(x, y)"
   ]
  },
  {
   "cell_type": "markdown",
   "metadata": {},
   "source": [
    "Finally for `multiple_choice` answer the following by returning the correct integer value: \n",
    "\n",
    "Which of the following best describes the space and time complexity of `slow_manhattan` compared to `fast_manhattan`:\n",
    "- return 0 if: `fast_manhattan` has lower space and time complexity.\n",
    "- return 1 if: `slow_manhattan` has lower space complexity and the same time complexity.\n",
    "- return 2 if: `fast_manhattan` has higher space complexity and lower time complexity.\n",
    "- return 3 if: Both are about the same in space and time complexity."
   ]
  },
  {
   "cell_type": "code",
   "execution_count": 15,
   "metadata": {
    "execution": {
     "iopub.execute_input": "2024-09-03T02:31:14.056390Z",
     "iopub.status.busy": "2024-09-03T02:31:14.055927Z",
     "iopub.status.idle": "2024-09-03T02:31:14.112801Z",
     "shell.execute_reply": "2024-09-03T02:31:14.111329Z"
    }
   },
   "outputs": [],
   "source": [
    "###############################\n",
    "### DO NOT CHANGE THIS CELL ###\n",
    "###############################\n",
    "\n",
    "\n",
    "warmup.multiple_choice()"
   ]
  }
 ],
 "metadata": {
  "colab": {
   "collapsed_sections": [
    "xuEnlmN4_Mv5",
    "OYMGmHnb_Mv5",
    "AsQ451om_Mv6",
    "F6RKWYnT_Mv6",
    "B5lmW2uC_Mv6",
    "fKoOWjNL_Mv6",
    "vEH3Rq6I_Mv7",
    "Ig0zfoum_Mv8",
    "Cj-SyonU_Mv9",
    "nVoCLl_3_Mv9",
    "7EOWVBev_Mv9",
    "XNi4X5bk_MwB",
    "CoW4bOY1_MwC",
    "3xqpO5wU_MwD",
    "47oHreu7_MwD",
    "-vmUAYXN_MwD"
   ],
   "name": "SUMMER2022_HW2_Solutions.ipynb",
   "provenance": []
  },
  "kernelspec": {
   "display_name": "Python 3",
   "language": "python",
   "name": "python3"
  },
  "language_info": {
   "codemirror_mode": {
    "name": "ipython",
    "version": 3
   },
   "file_extension": ".py",
   "mimetype": "text/x-python",
   "name": "python",
   "nbconvert_exporter": "python",
   "pygments_lexer": "ipython3",
   "version": "3.11.9"
  },
  "vscode": {
   "interpreter": {
    "hash": "abf998783507de3c9f11921dada3c31435afdabbce72c6ea8c0c9b645eb95361"
   }
  }
 },
 "nbformat": 4,
 "nbformat_minor": 4
}
